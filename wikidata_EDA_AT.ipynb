{
 "cells": [
  {
   "cell_type": "code",
   "execution_count": 1,
   "id": "18d11f04",
   "metadata": {},
   "outputs": [],
   "source": [
    "try:\n",
    "    import pandas as pd\n",
    "    import numpy as np\n",
    "    import csv\n",
    "    import json\n",
    "    import os\n",
    "    import matplotlib.pyplot as plt\n",
    "\n",
    "    \n",
    "except Exception as E:\n",
    "    print('Some modules are missing')"
   ]
  },
  {
   "cell_type": "code",
   "execution_count": 2,
   "id": "ba99d7a6",
   "metadata": {},
   "outputs": [
    {
     "name": "stdout",
     "output_type": "stream",
     "text": [
      "AT_answer_type_prediction  LICENSE    RL_relation_linking\r\n",
      "EL_entity_linking\t   README.md\r\n"
     ]
    }
   ],
   "source": [
    "!ls ../smart-2022-datasets/"
   ]
  },
  {
   "cell_type": "code",
   "execution_count": 3,
   "id": "7c4cf067",
   "metadata": {},
   "outputs": [],
   "source": [
    "gpath = '../smart-2022-datasets/'\n",
    "\n",
    "AT = gpath + 'AT_answer_type_prediction'"
   ]
  },
  {
   "cell_type": "code",
   "execution_count": 6,
   "id": "96085952",
   "metadata": {},
   "outputs": [],
   "source": [
    "at_db_train_fpath = os.path.join(gpath, 'AT_answer_type_prediction/wikidata/SMART2022-AT-wikidata-train.json')"
   ]
  },
  {
   "cell_type": "code",
   "execution_count": 19,
   "id": "3ce00a56",
   "metadata": {},
   "outputs": [],
   "source": [
    "with open(at_db_train_fpath, 'r') as f:\n",
    "    at_db_train = json.load(f)"
   ]
  },
  {
   "cell_type": "code",
   "execution_count": 20,
   "id": "ebb29eb8",
   "metadata": {},
   "outputs": [
    {
     "data": {
      "text/plain": [
       "43554"
      ]
     },
     "execution_count": 20,
     "metadata": {},
     "output_type": "execute_result"
    }
   ],
   "source": [
    "len(at_db_train)"
   ]
  },
  {
   "cell_type": "code",
   "execution_count": 21,
   "id": "57c7134d",
   "metadata": {},
   "outputs": [
    {
     "data": {
      "text/plain": [
       "{'id': 1,\n",
       " 'question': \"Who is the child of Ranavalona I's husband?\",\n",
       " 'category': 'resource',\n",
       " 'type': ['person', 'omnivore', 'natural person']}"
      ]
     },
     "execution_count": 21,
     "metadata": {},
     "output_type": "execute_result"
    }
   ],
   "source": [
    "at_db_train[1]"
   ]
  },
  {
   "cell_type": "code",
   "execution_count": 22,
   "id": "f60ce194",
   "metadata": {},
   "outputs": [
    {
     "data": {
      "text/plain": [
       "{'id': 2,\n",
       " 'question': 'Is it true Jeff_Bridges occupation Lane Chandler and photographer ?',\n",
       " 'category': 'boolean',\n",
       " 'type': ['boolean']}"
      ]
     },
     "execution_count": 22,
     "metadata": {},
     "output_type": "execute_result"
    }
   ],
   "source": [
    "at_db_train[2]"
   ]
  },
  {
   "cell_type": "code",
   "execution_count": 23,
   "id": "ff901b8b",
   "metadata": {},
   "outputs": [],
   "source": [
    "categories = []\n",
    "num_types = []\n",
    "types = []\n",
    "\n",
    "for entry in at_db_train:\n",
    "    categories.append(entry['category'])\n",
    "    num_types.append(len(entry['type']))\n",
    "    types.append(entry['type'])\n",
    "\n",
    "types = [a for sublist in types for a in sublist]\n",
    "num_types = np.array(num_types)"
   ]
  },
  {
   "cell_type": "code",
   "execution_count": 24,
   "id": "b24ba7bc",
   "metadata": {},
   "outputs": [],
   "source": [
    "t, c = np.unique(types, return_counts=True)\n",
    "ind = np.argsort(-c)"
   ]
  },
  {
   "cell_type": "code",
   "execution_count": 25,
   "id": "6c057884",
   "metadata": {
    "scrolled": true
   },
   "outputs": [
    {
     "data": {
      "text/plain": [
       "['person: 6891',\n",
       " 'natural person: 6821',\n",
       " 'omnivore: 6821',\n",
       " 'state: 4166',\n",
       " 'country: 3959',\n",
       " 'political territorial entity: 3937',\n",
       " 'human settlement: 3301',\n",
       " 'city: 2773',\n",
       " 'boolean: 2138',\n",
       " 'string: 2110',\n",
       " 'city/town: 2078',\n",
       " 'community: 1794',\n",
       " 'identity: 1771',\n",
       " 'sex: 1767',\n",
       " 'gender: 1767',\n",
       " 'art genre: 1687',\n",
       " 'democracy: 1658',\n",
       " 'republic: 1654',\n",
       " 'federal system: 1629',\n",
       " 'visual artwork: 1616',\n",
       " 'urban area: 1597',\n",
       " 'audiovisual work: 1541',\n",
       " 'date: 1414',\n",
       " 'nation: 1358',\n",
       " 'historical country: 1302',\n",
       " 'state with limited recognition: 1263',\n",
       " 'languoid: 1203',\n",
       " 'human language: 1190',\n",
       " 'series: 1176',\n",
       " 'moving image: 1154',\n",
       " 'position: 1149',\n",
       " 'municipal corporation in the United States: 1149',\n",
       " 'number: 1037',\n",
       " 'aspect of music: 1014',\n",
       " 'big city: 994',\n",
       " 'like a city: 935',\n",
       " 'creative work: 857',\n",
       " 'municipality: 729',\n",
       " 'class: 704',\n",
       " 'sovereign state: 701',\n",
       " 'organization: 651',\n",
       " 'seat: 650',\n",
       " 'occupation: 589',\n",
       " 'first-level administrative country subdivision: 574',\n",
       " 'work: 573',\n",
       " 'specialty: 570',\n",
       " 'business: 520',\n",
       " 'geographic location: 516',\n",
       " 'job: 515',\n",
       " 'release: 475',\n",
       " 'constituency: 446',\n",
       " 'city of the United States: 441',\n",
       " 'kingdom: 401',\n",
       " 'musical ensemble: 385',\n",
       " 'juridical person: 382',\n",
       " 'city with millions of inhabitants: 371',\n",
       " 'regime: 367',\n",
       " 'administrative territorial entity: 364',\n",
       " 'economic unit: 353',\n",
       " 'administrative territorial entity of the United States: 347',\n",
       " 'genre: 342',\n",
       " 'role: 333',\n",
       " 'federated state: 321',\n",
       " 'electronic game: 320',\n",
       " 'LAU 2: 310',\n",
       " 'application: 306',\n",
       " 'place with town rights and privileges: 305',\n",
       " 'second-level administrative country subdivision: 303',\n",
       " 'human-geographic territorial entity: 282',\n",
       " 'social position: 282',\n",
       " 'former administrative territorial entity: 280',\n",
       " 'municipality of Germany: 277',\n",
       " 'county of the United States: 270',\n",
       " 'trade name: 257',\n",
       " 'television program: 251',\n",
       " 'type of object: 251',\n",
       " 'group of humans: 241',\n",
       " 'state capital: 235',\n",
       " 'personal data: 233',\n",
       " 'brand: 232',\n",
       " 'chemical component: 222',\n",
       " 'pure substance: 222',\n",
       " 'third-level administrative country subdivision: 221',\n",
       " 'fictional character: 221',\n",
       " 'fourth-level administrative country subdivision: 217',\n",
       " 'geographic region: 215',\n",
       " 'territorial collectivity of France: 210',\n",
       " 'capital: 206',\n",
       " 'unit of measurement: 204',\n",
       " 'written work: 203',\n",
       " 'academic discipline: 200',\n",
       " 'charter city of the United States: 196',\n",
       " 'administrative territorial entity of New York (state): 196',\n",
       " 'city of California: 196',\n",
       " 'administrative territorial entity of Italy: 192',\n",
       " 'astronomical object: 190',\n",
       " 'film award: 190',\n",
       " 'text: 189',\n",
       " 'operation: 183',\n",
       " 'federal state: 181',\n",
       " 'commune: 180',\n",
       " 'football club: 175',\n",
       " 'film: 173',\n",
       " 'sports team: 173',\n",
       " 'higher education institution: 160',\n",
       " 'group of living things: 157',\n",
       " 'chemical substance: 157',\n",
       " 'town: 156',\n",
       " 'profession: 155',\n",
       " 'medium of exchange: 154',\n",
       " 'money: 154',\n",
       " 'software company: 153',\n",
       " 'ideology: 153',\n",
       " 'fifth-level administrative country subdivision: 151',\n",
       " 'award: 150',\n",
       " 'non-political administrative territorial entity: 150',\n",
       " 'architectural structure: 150',\n",
       " 'dependent territory: 149',\n",
       " 'time interval: 149',\n",
       " 'independent city of Germany: 149',\n",
       " 'administrative territorial entity of England: 148',\n",
       " 'rank: 147',\n",
       " 'war: 147',\n",
       " 'academic institution: 145',\n",
       " 'language: 143',\n",
       " 'time standard: 141',\n",
       " 'list: 140',\n",
       " 'foreign currencies: 140',\n",
       " 'landmass: 139',\n",
       " 'musical group: 136',\n",
       " 'locality: 133',\n",
       " 'artificial geographic entity: 133',\n",
       " 'landform: 132',\n",
       " 'Wikimedia internal item: 131',\n",
       " 'health problem: 130',\n",
       " 'statistical territorial entity: 127',\n",
       " 'company: 126',\n",
       " 'political entity: 126',\n",
       " 'public educational institution: 125',\n",
       " 'game publisher: 121',\n",
       " 'educational institution: 121',\n",
       " 'natural geographic object: 121',\n",
       " 'causality: 120',\n",
       " 'enterprise: 120',\n",
       " 'political organisation: 119',\n",
       " 'era: 119',\n",
       " 'currency: 119',\n",
       " 'drug: 119',\n",
       " 'literary work: 118',\n",
       " 'university: 117',\n",
       " 'natural watercourse: 117',\n",
       " 'series of creative works: 116',\n",
       " 'building: 114',\n",
       " 'album: 114',\n",
       " 'occurrence: 114',\n",
       " 'fictional humanoid: 113',\n",
       " 'software publisher: 112',\n",
       " 'world view: 111',\n",
       " 'ethnic group: 111',\n",
       " 'format: 110',\n",
       " 'religion or world view: 109',\n",
       " 'belief system: 109',\n",
       " 'production company: 109',\n",
       " 'private educational institution: 107',\n",
       " 'administrative territorial entity of a single country: 106',\n",
       " 'musical work: 103',\n",
       " 'facility: 103',\n",
       " 'nonprofit organization: 102',\n",
       " 'form of state: 102',\n",
       " 'constituent state: 100',\n",
       " 'type: 100',\n",
       " 'administrative type: 99',\n",
       " 'sports club: 98',\n",
       " 'film organization: 97',\n",
       " 'oligarchy: 97',\n",
       " 'plutocracy: 97',\n",
       " 'star: 97',\n",
       " 'subject of international law: 96',\n",
       " 'municipio: 96',\n",
       " 'urban municipality of Germany: 96',\n",
       " 'living organism class: 96',\n",
       " 'local government in Pennsylvania: 96',\n",
       " 'disease: 95',\n",
       " ': 94',\n",
       " 'media enterprise: 94',\n",
       " 'religion: 94',\n",
       " 'artificial entity: 93',\n",
       " 'administrative territorial entity of Germany: 92',\n",
       " 'global city: 92',\n",
       " 'publisher: 90',\n",
       " 'joint-stock company: 90',\n",
       " 'form: 88',\n",
       " 'title: 87',\n",
       " 'non-governmental organization: 86',\n",
       " 'tradition: 86',\n",
       " 'dwarf star: 85',\n",
       " 'public institution of the United States: 85',\n",
       " 'main sequence: 85',\n",
       " 'enclave or exclave: 84',\n",
       " 'religious denomination: 84',\n",
       " 'administrative centre: 83',\n",
       " 'association football team: 82',\n",
       " 'building complex: 82',\n",
       " 'national sports team: 81',\n",
       " 'venue: 81',\n",
       " 'borough in the United States: 81',\n",
       " 'G: 81',\n",
       " 'stellar population: 81',\n",
       " 'administrative territorial entity of a specific level: 78',\n",
       " 'social group: 76',\n",
       " 'first-level NUTS of the European Union: 76',\n",
       " 'international organization: 74',\n",
       " 'sports festival: 73',\n",
       " 'territorial entity: 71',\n",
       " 'types of towns and cities in Russia: 71',\n",
       " 'time zone: 71',\n",
       " 'civil parish: 71',\n",
       " 'MediaWiki main-namespace page: 71',\n",
       " 'document: 70',\n",
       " 'districts and some cities of Germany: 70',\n",
       " 'geographical object: 70',\n",
       " 'music organization: 70',\n",
       " 'observatory: 70',\n",
       " 'integrated municipality: 69',\n",
       " 'social issue: 69',\n",
       " 'quarter: 67',\n",
       " 'musical composition: 66',\n",
       " 'military operation: 66',\n",
       " 'human behaviour: 65',\n",
       " 'recognition: 65',\n",
       " 'polity: 65',\n",
       " 'animated film: 65',\n",
       " 'product: 65',\n",
       " 'artistic profession: 65',\n",
       " 'noxae: 65',\n",
       " 'census place: 64',\n",
       " 'geographic entity: 64',\n",
       " 'bounty: 64',\n",
       " 'grant: 64',\n",
       " 'social class: 64',\n",
       " 'colleges and universities in the United States: 64',\n",
       " 'annual event: 64',\n",
       " 'flammable liquid: 64',\n",
       " 'unincorporated community: 64',\n",
       " 'season: 63',\n",
       " 'structure: 63',\n",
       " 'point of interest: 62',\n",
       " 'county-equivalent: 61',\n",
       " 'administrative territorial entity of Spain: 61',\n",
       " 'competition: 61',\n",
       " 'former capital: 60',\n",
       " 'monarchy: 60',\n",
       " 'deity: 59',\n",
       " 'armed conflict: 59',\n",
       " 'vocal music: 59',\n",
       " 'realm: 59',\n",
       " 'administrative territorial entity of the United Kingdom: 59',\n",
       " 'given name: 59',\n",
       " 'language variety: 59',\n",
       " 'award ceremony: 58',\n",
       " 'regional center of Germany: 58',\n",
       " 'find spot: 58',\n",
       " 'concept: 57',\n",
       " 'historical event: 57',\n",
       " 'section of populated place: 56',\n",
       " 'branch of science: 56',\n",
       " 'ensemble: 56',\n",
       " 'independent city: 56',\n",
       " 'process: 56',\n",
       " 'combat: 55',\n",
       " 'state (former or current): 55',\n",
       " 'administrative territorial entity of Austria: 55',\n",
       " 'fictional primate: 55',\n",
       " 'fictional person: 55',\n",
       " 'website: 55',\n",
       " 'sports venue: 55',\n",
       " 'public university: 55',\n",
       " 'taxonomic rank: 54',\n",
       " 'administrative territorial entity of Japan: 54',\n",
       " 'Nucleic acid sequence: 54',\n",
       " 'federal territory: 53',\n",
       " 'agent: 53',\n",
       " 'de-nominalist church: 53',\n",
       " 'lieutenancy area: 53',\n",
       " 'christian organization: 53',\n",
       " 'school: 53',\n",
       " 'federal subject of Russia: 52',\n",
       " 'municipality of Ontario: 52',\n",
       " 'religious organization: 52',\n",
       " 'island nation: 52',\n",
       " 'ancient city: 52',\n",
       " 'biblical character: 51',\n",
       " 'pattern of behaviour: 50',\n",
       " 'cultural movement: 50',\n",
       " 'former entity: 50',\n",
       " 'powiat of Poland: 50',\n",
       " 'province-level division: 50',\n",
       " 'anthology: 50',\n",
       " 'collection: 50',\n",
       " 'administrative territorial entity of Brazil: 50',\n",
       " 'human who may be fictional: 49',\n",
       " 'mythical character: 49',\n",
       " 'null-subject language: 49',\n",
       " 'episode: 49',\n",
       " 'bridge: 48',\n",
       " 'art style: 48',\n",
       " 'biological sequence: 48',\n",
       " 'biological region: 48',\n",
       " 'GLAM: 47',\n",
       " 'place of worship: 47',\n",
       " 'unitary authority: 47',\n",
       " 'station: 46',\n",
       " 'tool: 45',\n",
       " 'recurring sporting event: 45',\n",
       " 'secondary school: 45',\n",
       " 'aspect: 45',\n",
       " 'isotope: 45',\n",
       " 'live release: 44',\n",
       " 'human activity: 44',\n",
       " 'Roman archaeological site: 44',\n",
       " 'medication: 44',\n",
       " 'goods: 44',\n",
       " 'biological component: 44',\n",
       " 'location: 43',\n",
       " 'system: 43',\n",
       " 'record company: 43',\n",
       " 'Landscape: 43',\n",
       " 'event: 42',\n",
       " 'religious building: 42',\n",
       " 'academic title: 42',\n",
       " 'aerodrome: 42',\n",
       " 'media studio facility: 42',\n",
       " 'air carrier: 41',\n",
       " 'communication medium: 41',\n",
       " 'technical standard: 41',\n",
       " 'sport: 40',\n",
       " 'thoroughfare: 40',\n",
       " 'infection associated with diseases: 40',\n",
       " 'type of manufactured good: 40',\n",
       " 'sound generator: 40',\n",
       " 'group: 40',\n",
       " 'location of burial: 40',\n",
       " 'social movement: 40',\n",
       " 'body of water: 40',\n",
       " 'spaceflight: 39',\n",
       " 'official residence: 39',\n",
       " 'endangered language: 39',\n",
       " 'legislature: 39',\n",
       " 'prefecture: 39',\n",
       " 'scientific organisation: 39',\n",
       " 'lect: 38',\n",
       " 'periodical: 38',\n",
       " 'local public entity: 38',\n",
       " 'idiom: 38',\n",
       " 'lineage: 37',\n",
       " 'art: 37',\n",
       " 'administrative territorial entity of the Netherlands: 37',\n",
       " 'cause of death: 37',\n",
       " 'administrative territorial entity of Canada: 37',\n",
       " 'district of Austria: 37',\n",
       " 'public space: 37',\n",
       " 'municipality of Austria: 37',\n",
       " 'municipality of New Jersey: 37',\n",
       " 'rural settlement: 37',\n",
       " 'autonomous administrative territorial entity: 36',\n",
       " 'idea: 36',\n",
       " 'discovery: 36',\n",
       " 'administrative territorial entity of the Czech Republic: 36',\n",
       " 'feature film: 36',\n",
       " 'terrain: 36',\n",
       " 'substance: 36',\n",
       " 'point of view: 36',\n",
       " 'cause of cancer: 35',\n",
       " 'educational organization: 35',\n",
       " 'obec: 35',\n",
       " 'conflict: 35',\n",
       " 'tourist attraction: 35',\n",
       " 'biopolymer: 34',\n",
       " 'institution: 34',\n",
       " 'manifestation: 34',\n",
       " 'Scottish burgh: 34',\n",
       " 'historical geographic location: 34',\n",
       " 'village: 34',\n",
       " 'physiological condition: 34',\n",
       " 'arena: 34',\n",
       " 'fictional entity: 33',\n",
       " 'diocese: 33',\n",
       " 'technical term: 33',\n",
       " 'settlement of Hungary: 33',\n",
       " 'vehicle model series: 33',\n",
       " 'rural area: 33',\n",
       " 'play: 32',\n",
       " 'performing arts genre: 32',\n",
       " 'intellectual work: 32',\n",
       " 'aircraft: 32',\n",
       " 'optical phenomenon: 31',\n",
       " 'county of England: 31',\n",
       " 'philosophical theory: 31',\n",
       " 'academy: 31',\n",
       " 'programming language: 31',\n",
       " 'computer language: 31',\n",
       " 'item of collection or exhibition: 31',\n",
       " 'noble title: 31',\n",
       " 'online publication: 30',\n",
       " 'abstract object: 30',\n",
       " 'municipality of the Czech Republic: 30',\n",
       " 'capability: 30',\n",
       " 'technique: 30',\n",
       " 'model: 30',\n",
       " 'digital media: 30',\n",
       " 'activity: 30',\n",
       " 'symbol: 30',\n",
       " 'religious literature: 30',\n",
       " 'literary genre: 29',\n",
       " 'polyamide: 29',\n",
       " 'administrative territorial entity of Switzerland: 29',\n",
       " 'biological macromolecule: 29',\n",
       " 'nutrient: 29',\n",
       " 'gene product: 29',\n",
       " 'airport: 29',\n",
       " 'district: 29',\n",
       " 'anthroponym: 29',\n",
       " 'noble family: 29',\n",
       " 'way of life: 29',\n",
       " 'minor planet: 29',\n",
       " 'planet of the Solar System: 29',\n",
       " 'absorbed or reflected object light: 29',\n",
       " 'clinical finding: 29',\n",
       " 'neighborhood: 28',\n",
       " 'material anatomical entity: 28',\n",
       " 'SI unit: 28',\n",
       " 'rule: 28',\n",
       " 'metre: 28',\n",
       " 'information: 28',\n",
       " 'writing system: 28',\n",
       " 'superhuman: 28',\n",
       " 'unincorporated area: 28',\n",
       " 'narrative entity: 28',\n",
       " 'local authority: 27',\n",
       " 'social relation: 27',\n",
       " 'continent: 27',\n",
       " 'short film: 27',\n",
       " 'municipality in Switzerland: 27',\n",
       " 'television series: 27',\n",
       " 'sign: 27',\n",
       " 'commercial company: 26',\n",
       " 'administrative territorial entity of Belgium: 26',\n",
       " 'computer network: 26',\n",
       " 'mental representation: 26',\n",
       " 'administrative territorial entity of Scotland: 26',\n",
       " 'burial or funerary  structures: 26',\n",
       " 'local government in New Jersey: 26',\n",
       " 'interactive media: 26',\n",
       " 'broadcaster: 26',\n",
       " 'voluntary association: 26',\n",
       " 'flammable object: 26',\n",
       " 'administrative territorial entity of Mexico: 26',\n",
       " 'broadcasting program: 25',\n",
       " 'mass media: 25',\n",
       " 'municipality of Japan: 25',\n",
       " 'Islamic state: 25',\n",
       " 'small Solar System body: 25',\n",
       " 'aircraft class: 25',\n",
       " 'mythological Greek character: 25',\n",
       " 'asterism: 25',\n",
       " 'sport competition at a multi-sport event: 25',\n",
       " 'trademark: 25',\n",
       " 'artificial physical object: 25',\n",
       " 'method: 25',\n",
       " 'local municipality of Quebec: 25',\n",
       " 'color: 25',\n",
       " 'still waters: 25',\n",
       " 'sports league: 25',\n",
       " 'military cemetery: 24',\n",
       " 'service: 24',\n",
       " 'carcinogen: 24',\n",
       " 'dwelling place: 24',\n",
       " 'war cemetery: 24',\n",
       " 'association: 24',\n",
       " 'grammatical category: 24',\n",
       " 'performance work: 24',\n",
       " 'web-safe color: 24',\n",
       " 'game franchise: 24',\n",
       " 'family: 24',\n",
       " 'vehicle model: 24',\n",
       " 'water area: 24',\n",
       " 'municipal corporation: 24',\n",
       " 'recurring event: 24',\n",
       " 'health specialty: 23',\n",
       " 'Q12055729: 23',\n",
       " 'theocracy: 23',\n",
       " 'intentional human action: 23',\n",
       " 'natural process: 23',\n",
       " 'absence: 23',\n",
       " 'okres: 23',\n",
       " 'computing platform: 23',\n",
       " 'final: 23',\n",
       " 'kraj: 23',\n",
       " 'administrative territorial entity of Turkey: 23',\n",
       " 'organ: 23',\n",
       " 'municipality of Switzerland: 22',\n",
       " 'taxon: 22',\n",
       " 'job title: 22',\n",
       " 'group action: 22',\n",
       " 'historical administrative division: 22',\n",
       " 'group or class of chemical substances: 22',\n",
       " 'intellectual property: 22',\n",
       " 'publication: 22',\n",
       " 'work of art: 22',\n",
       " 'city of Japan: 22',\n",
       " 'protected name: 22',\n",
       " 'record label: 22',\n",
       " 'written news media: 22',\n",
       " 'political party: 21',\n",
       " 'Local government in the Republic of Ireland: 21',\n",
       " 'system software: 21',\n",
       " 'biological phenomenon: 21',\n",
       " 'spacecraft: 21',\n",
       " 'civil township: 21',\n",
       " 'public office: 21',\n",
       " 'food: 21',\n",
       " 'film studio: 21',\n",
       " 'film production company: 21',\n",
       " 'economic sector: 21',\n",
       " 'serial: 21',\n",
       " 'legal transaction: 21',\n",
       " 'knowledge: 21',\n",
       " 'natural satellite: 21',\n",
       " 'research institute: 21',\n",
       " 'entertainment software: 21',\n",
       " \"prefecture of the People's Republic of China: 21\",\n",
       " 'historical language: 21',\n",
       " 'languoid class: 20',\n",
       " 'type of sport: 20',\n",
       " 'promissory note: 20',\n",
       " 'grave: 20',\n",
       " 'temporal entity: 20',\n",
       " 'state in the holy roman empire: 20',\n",
       " 'american rules football game: 20',\n",
       " 'administrative territorial entity of South Korea: 20',\n",
       " 'fusor: 20',\n",
       " 'administrative territorial entity of Finland: 20',\n",
       " 'anatomical structure: 20',\n",
       " 'artistic creation: 20',\n",
       " 'duo: 20',\n",
       " 'high-rise building: 20',\n",
       " 'state or territory of India: 19',\n",
       " 'drama: 19',\n",
       " 'reference work: 19',\n",
       " 'bibliography: 19',\n",
       " 'content rating category: 19',\n",
       " 'metropolitan municipality: 19',\n",
       " 'giant planet: 19',\n",
       " 'action: 19',\n",
       " 'part of: 19',\n",
       " 'star system: 19',\n",
       " 'narrative: 19',\n",
       " 'superior planet: 19',\n",
       " 'administrative territorial entity of california: 19',\n",
       " 'town of the United States: 19',\n",
       " 'setting: 19',\n",
       " 'object in the outer solar system: 19',\n",
       " 'state or territory of Australia: 19',\n",
       " 'subsidiary entity: 18',\n",
       " 'language group: 18',\n",
       " 'telescope: 18',\n",
       " 'museum of culture: 18',\n",
       " 'alphabet: 18',\n",
       " 'organic compound: 18',\n",
       " 'literature: 18',\n",
       " 'Wikimedia article page: 18',\n",
       " 'software: 18',\n",
       " 'lost city: 18',\n",
       " 'transport infrastructure: 18',\n",
       " 'administrative territorial entity of quebec: 18',\n",
       " 'fictional location: 18',\n",
       " 'representative: 18',\n",
       " 'special administrative region: 18',\n",
       " \"administrative territorial entity of the People's Republic of China: 18\",\n",
       " 'solid: 17',\n",
       " 'house: 17',\n",
       " 'public research institution: 17',\n",
       " 'bank: 17',\n",
       " 'abstract being: 17',\n",
       " 'government organization: 17',\n",
       " 'syndrome: 17',\n",
       " 'book: 17',\n",
       " 'service on internet: 17',\n",
       " 'local government in Israel: 17',\n",
       " 'natural phenomenon: 17',\n",
       " 'constellation: 17',\n",
       " 'hero: 17',\n",
       " 'individual: 17',\n",
       " 'institute: 17',\n",
       " 'day: 17',\n",
       " 'municipality of Belgium: 17',\n",
       " 'sporting event: 17',\n",
       " 'administrative territorial entity of Ukraine: 17',\n",
       " 'national symbol: 16',\n",
       " 'football team: 16',\n",
       " 'geography: 16',\n",
       " 'musical form: 16',\n",
       " 'quality: 16',\n",
       " 'dyad: 16',\n",
       " 'specialized higher education institution: 16',\n",
       " 'power: 16',\n",
       " 'third-order administrative division: 16',\n",
       " 'museum: 16',\n",
       " 'atomic nucleus: 16',\n",
       " 'Q3391202: 16',\n",
       " 'film character: 16',\n",
       " 'chronostratigraphic unit: 16',\n",
       " 'comedy: 16',\n",
       " 'administrative territorial entity of Iran: 16',\n",
       " 'city of Wisconsin: 16',\n",
       " 'newspaper: 15',\n",
       " 'additive: 15',\n",
       " 'standard language: 15',\n",
       " 'suspected contagious disease: 15',\n",
       " 'oxygen compound: 15',\n",
       " 'chef-lieu: 15',\n",
       " 'holiday: 15',\n",
       " 'monotheistic religion: 15',\n",
       " 'pharmaceutical preparation: 15',\n",
       " 'satellite: 15',\n",
       " 'non-working day: 15',\n",
       " 'stadium: 15',\n",
       " 'administrative territorial entity of Croatia: 15',\n",
       " 'name: 15',\n",
       " 'person or organization: 15',\n",
       " 'medicinal product: 15',\n",
       " 'academia: 15',\n",
       " 'administrative territorial entity of virginia: 15',\n",
       " 'object: 15',\n",
       " 'metropolitan or non-metropolitan county of England: 15',\n",
       " 'scientific society: 15',\n",
       " 'segmental writing system: 15',\n",
       " 'anion: 15',\n",
       " 'book series: 15',\n",
       " 'base material: 15',\n",
       " 'disputed territory: 15',\n",
       " 'school of thought: 14',\n",
       " 'radio program: 14',\n",
       " 'private company: 14',\n",
       " 'private corporation: 14',\n",
       " 'device: 14',\n",
       " 'Christian Church: 14',\n",
       " 'municipalities of croatia: 14',\n",
       " 'heritage site: 14',\n",
       " 'pop group: 14',\n",
       " 'pharmaceutic aid: 14',\n",
       " 'double star: 14',\n",
       " 'vocal group: 14',\n",
       " 'pharmaceutical vehicle: 14',\n",
       " 'poetry: 14',\n",
       " 'phenomenon: 14',\n",
       " 'public building: 14',\n",
       " 'public enterprise: 14',\n",
       " 'binary system: 14',\n",
       " 'professional school: 14',\n",
       " 'administrative territorial entity of Colombia: 14',\n",
       " 'trade magazine: 14',\n",
       " 'cation: 14',\n",
       " 'municipality of Spain: 14',\n",
       " 'island group: 14',\n",
       " 'city of the Philippines: 14',\n",
       " 'economic region: 13',\n",
       " 'urban area in Nordic countries: 13',\n",
       " 'scholarly publication: 13',\n",
       " 'natural disaster: 13',\n",
       " 'dynasty: 13',\n",
       " 'national association football competition: 13',\n",
       " 'standard: 13',\n",
       " 'communications protocol: 13',\n",
       " 'linguistic typology: 13',\n",
       " 'fiction series: 13',\n",
       " 'Wikimedia project page: 13',\n",
       " 'Christian religious occupation: 13',\n",
       " 'construction: 13',\n",
       " 'trade bloc: 13',\n",
       " 'work with multiple executions: 13',\n",
       " 'proposition: 13',\n",
       " 'government agency: 13',\n",
       " 'single-tier municipality: 13',\n",
       " 'style: 13',\n",
       " 'animated character: 13',\n",
       " 'gas: 13',\n",
       " 'history museum: 13',\n",
       " 'performing arts production: 13',\n",
       " 'three-dimensional object: 13',\n",
       " 'learned society: 13',\n",
       " 'sports organization: 13',\n",
       " 'mythical entity: 13',\n",
       " 'ingredient: 13',\n",
       " 'administrative territorial entity of Romania: 13',\n",
       " 'hymn: 13',\n",
       " 'video game: 13',\n",
       " 'patriotic song: 13',\n",
       " 'mobile software: 12',\n",
       " 'word-sense disambiguation: 12',\n",
       " 'administrative territorial entity of Portugal: 12',\n",
       " 'bridge by material: 12',\n",
       " 'statistical territorial entity of Portugal: 12',\n",
       " 'LAU 1: 12',\n",
       " 'draft: 12',\n",
       " 'coin object: 12',\n",
       " 'notation: 12',\n",
       " 'national association football team: 12',\n",
       " 'steel construction: 12',\n",
       " 'administrative territorial entity of India: 12',\n",
       " 'metal bridge: 12',\n",
       " 'rail infrastructure: 12',\n",
       " 'chemical compound: 12',\n",
       " 'anime: 12',\n",
       " 'group of works: 12',\n",
       " 'district capital: 12',\n",
       " 'city district: 12',\n",
       " 'television serial: 12',\n",
       " 'legal case: 12',\n",
       " 'murder: 12',\n",
       " 'physical object: 12',\n",
       " 'city in Ukraine: 12',\n",
       " 'sports governing body: 12',\n",
       " 'set: 12',\n",
       " 'political system: 12',\n",
       " 'administrative territorial entity of Serbia: 12',\n",
       " 'assembly: 12',\n",
       " 'heritage: 12',\n",
       " 'television channel: 12',\n",
       " 'civilization: 12',\n",
       " 'concelho: 11',\n",
       " 'cultural depiction: 11',\n",
       " 'credit institution: 11',\n",
       " 'legal form: 11',\n",
       " 'creative work season: 11',\n",
       " 'cultural institution: 11',\n",
       " 'administrative territorial entity of minnesota: 11',\n",
       " 'murder attempt: 11',\n",
       " 'territory: 11',\n",
       " 'culture: 11',\n",
       " 'comics character: 11',\n",
       " 'ministry: 11',\n",
       " 'military unit: 11',\n",
       " 'monoanion: 11',\n",
       " 'software component: 11',\n",
       " 'source-available software: 11',\n",
       " 'manga: 11',\n",
       " 'manufacturing company: 11',\n",
       " 'shoreline indentation: 11',\n",
       " 'terrorist attack: 11',\n",
       " 'data format: 11',\n",
       " 'monetary authority: 11',\n",
       " 'fortification: 11',\n",
       " 'medical procedure: 11',\n",
       " 'administrative territorial entity of Catalonia: 11',\n",
       " 'administrative territorial entity of the Philippines: 11',\n",
       " 'institutional complex: 11',\n",
       " 'calendar date: 11',\n",
       " 'province or territory of Canada: 11',\n",
       " 'statement: 11',\n",
       " 'technology company: 11',\n",
       " 'Greek deity: 11',\n",
       " 'rare disease: 11',\n",
       " 'armed organization: 11',\n",
       " 'Reproductive toxicant: 11',\n",
       " 'financial intermediary: 11',\n",
       " 'blockade: 11',\n",
       " 'villain: 11',\n",
       " 'regional organization: 11',\n",
       " 'home: 11',\n",
       " 'residential community: 11',\n",
       " 'residential building: 11',\n",
       " 'relation: 11',\n",
       " 'Q61766772: 11',\n",
       " 'artistic theme: 11',\n",
       " 'historic house: 11',\n",
       " 'audio storage device: 11',\n",
       " 'assertion method: 11',\n",
       " 'religious festival: 11',\n",
       " 'operating system: 11',\n",
       " 'television series episode: 11',\n",
       " 'video game character: 11',\n",
       " 'academic journal: 11',\n",
       " 'special city: 11',\n",
       " 'free content: 11',\n",
       " 'freely redistributable software: 11',\n",
       " 'urban rail transit: 11',\n",
       " 'railway line: 11',\n",
       " 'election: 11',\n",
       " 'astronomical observatory: 10',\n",
       " 'legal person: 10',\n",
       " 'college: 10',\n",
       " 'championship: 10',\n",
       " 'music community: 10',\n",
       " 'music award: 10',\n",
       " 'empire: 10',\n",
       " 'Public Ivy: 10',\n",
       " 'incident: 10',\n",
       " 'violent crime: 10',\n",
       " 'hydrogen chalcogenide: 10',\n",
       " 'colleges within universities in the United Kingdom: 10',\n",
       " 'financial institution: 10',\n",
       " 'navigational aid: 10',\n",
       " 'conflation: 10',\n",
       " 'administrative territorial entity of Argentina: 10',\n",
       " 'water reservoir: 10',\n",
       " 'signal tower: 10',\n",
       " 'star cluster: 10',\n",
       " 'Wikipedia article page: 10',\n",
       " 'social scene: 10',\n",
       " 'something: 10',\n",
       " 'light source: 10',\n",
       " 'administrative region: 10',\n",
       " 'administrative territorial entity of Norway: 10',\n",
       " 'terrestrial planet: 10',\n",
       " 'criminal case: 10',\n",
       " 'artificial lake: 10',\n",
       " 'physical phenomenon: 10',\n",
       " 'Municipal government in Canada: 10',\n",
       " 'administrative subdivision of Puerto Rico: 10',\n",
       " 'comic book series: 10',\n",
       " 'fictional human: 10',\n",
       " 'green space: 10',\n",
       " 'domesticated mammal: 10',\n",
       " 'substellar object: 10',\n",
       " 'landscape: 10',\n",
       " 'quake: 10',\n",
       " 'territory of Australia: 10',\n",
       " 'sea mark: 10',\n",
       " 'railway: 10',\n",
       " 'class (set theory): 10',\n",
       " 'overseas territory: 10',\n",
       " 'Olympic Games: 10',\n",
       " 'sports award: 10',\n",
       " 'military branch: 10',\n",
       " 'object of the inner Solar System: 10',\n",
       " 'first-level administrative country subdivision in Indonesia: 10',\n",
       " 'all-seater stadium: 9',\n",
       " 'former geographical object: 9',\n",
       " 'operation point: 9',\n",
       " 'game: 9',\n",
       " 'state power: 9',\n",
       " 'group of structures or buildings: 9',\n",
       " 'supernatural being: 9',\n",
       " 'fiction literature: 9',\n",
       " 'aspect of history: 9',\n",
       " 'okrug: 9',\n",
       " 'interaction: 9',\n",
       " 'artwork series: 9',\n",
       " 'dialect: 9',\n",
       " 'demographics: 9',\n",
       " 'term: 9',\n",
       " 'religious identity: 9',\n",
       " 'metaclass: 9',\n",
       " 'administrative subdivision of Wales: 9',\n",
       " 'territorial entity of bulgaria: 9',\n",
       " 'kindred: 9',\n",
       " 'association football venue: 9',\n",
       " 'morality: 9',\n",
       " 'soft drink: 9',\n",
       " 'tournament: 9',\n",
       " 'special local public entity: 9',\n",
       " 'county: 9',\n",
       " 'legislature of a constituent state: 9',\n",
       " 'legislative act: 9',\n",
       " 'railway halt: 9',\n",
       " 'recurring: 9',\n",
       " 'sculpture: 9',\n",
       " 'palace: 9',\n",
       " 'test: 9',\n",
       " 'organization established by the United Nations: 9',\n",
       " 'Catholic church: 9',\n",
       " 'theory: 9',\n",
       " 'village in the united states: 9',\n",
       " 'performing arts building: 9',\n",
       " 'residence: 9',\n",
       " 'physical property: 9',\n",
       " 'legislative election: 9',\n",
       " 'legislative house: 9',\n",
       " 'channel: 9',\n",
       " 'church building: 9',\n",
       " 'sexuality: 8',\n",
       " 'property: 8',\n",
       " 'mascot: 8',\n",
       " 'costumed character: 8',\n",
       " 'measure: 8',\n",
       " 'railway station: 8',\n",
       " 'government building: 8',\n",
       " 'region of Ukraine: 8',\n",
       " 'monocation: 8',\n",
       " 'artificial language: 8',\n",
       " 'processor: 8',\n",
       " 'airline: 8',\n",
       " 'ship: 8',\n",
       " 'alcohols: 8',\n",
       " 'trait: 8',\n",
       " 'religious community: 8',\n",
       " 'Q104053: 8',\n",
       " 'top-level domain: 8',\n",
       " 'court decision: 8',\n",
       " 'chemical entity: 8',\n",
       " 'concern: 8',\n",
       " 'music: 8',\n",
       " 'performing arts group: 8',\n",
       " 'event venue: 8',\n",
       " 'secret service: 8',\n",
       " 'robotic spacecraft: 8',\n",
       " 'myth: 8',\n",
       " 'district of England: 8',\n",
       " 'breed: 8',\n",
       " 'accord: 8',\n",
       " 'oxyanion: 8',\n",
       " 'organizational subdivision: 8',\n",
       " 'television award: 8',\n",
       " 'specialty use of chemicals: 8',\n",
       " 'organic acid anhydride: 8',\n",
       " 'integer: 8',\n",
       " 'carbonyl compound: 8',\n",
       " 'national youth football team: 8',\n",
       " 'city-state: 8',\n",
       " 'spa town: 8',\n",
       " 'onium ion: 8',\n",
       " 'catalogue: 8',\n",
       " 'lake: 8',\n",
       " 'administrative territorial entity of the German Democratic Republic: 8',\n",
       " 'urban entity in Chile: 8',\n",
       " 'note: 8',\n",
       " 'school building: 8',\n",
       " 'scientific law: 8',\n",
       " 'administrative territorial entity of michigan: 8',\n",
       " 'periodic process: 8',\n",
       " 'road: 8',\n",
       " 'popular assembly: 8',\n",
       " 'basilica: 8',\n",
       " 'planemo: 8',\n",
       " 'fiction: 8',\n",
       " 'administrative territorial entity of Northern Ireland: 8',\n",
       " 'polyatomic cation: 8',\n",
       " 'settlement: 8',\n",
       " 'lexical item: 8',\n",
       " 'physical substance: 8',\n",
       " 'license: 8',\n",
       " 'plot: 8',\n",
       " 'treaty: 8',\n",
       " 'aviation incident: 8',\n",
       " 'disaster: 8',\n",
       " 'polyatomic ion: 8',\n",
       " 'history of the world: 8',\n",
       " 'binary star: 8',\n",
       " 'facial feature: 8',\n",
       " 'religious movement: 8',\n",
       " 'medal: 7',\n",
       " 'television station: 7',\n",
       " 'group of manifestations: 7',\n",
       " 'fictional creature: 7',\n",
       " 'knowledge organization system: 7',\n",
       " 'kinship: 7',\n",
       " 'departamento: 7',\n",
       " 'derivative work: 7',\n",
       " 'economic activity: 7',\n",
       " 'temple: 7',\n",
       " 'delict: 7',\n",
       " 'television network: 7',\n",
       " 'administrative territorial entity of France: 7',\n",
       " 'cultural property: 7',\n",
       " 'terrorism tactic: 7',\n",
       " 'extrasolar object: 7',\n",
       " 'television character: 7',\n",
       " 'fixed-order metaclass: 7',\n",
       " 'lower house: 7',\n",
       " 'liberal arts college: 7',\n",
       " 'dead language: 7',\n",
       " 'social media: 7',\n",
       " 'state church: 7',\n",
       " 'skill: 7',\n",
       " 'group of literary works: 7',\n",
       " 'fictional astronomical object: 7',\n",
       " 'tabletop game: 7',\n",
       " 'rapid transit train service: 7',\n",
       " 'computing infrastructure: 7',\n",
       " 'campaign: 7',\n",
       " 'administrative territorial entity of the Roman Empire: 7',\n",
       " 'conceptual model: 7',\n",
       " 'paradigm: 7',\n",
       " 'conclusion: 7',\n",
       " 'broadcast network: 7',\n",
       " 'order: 7',\n",
       " 'version, edition, or translation: 7',\n",
       " 'pesticide: 7',\n",
       " 'monohydric alcohol: 7',\n",
       " 'physical quantity: 7',\n",
       " 'phytopharmaceuticals: 7',\n",
       " 'planet: 7',\n",
       " 'awareness day: 7',\n",
       " 'borough: 7',\n",
       " 'population: 7',\n",
       " 'compound of carbon: 7',\n",
       " 'open standard: 7',\n",
       " 'Japanese TV series: 7',\n",
       " 'club: 7',\n",
       " ...]"
      ]
     },
     "execution_count": 25,
     "metadata": {},
     "output_type": "execute_result"
    }
   ],
   "source": [
    "[f'{t[ind[i]]}: {c[ind[i]]}' for i in range(len(t))]"
   ]
  },
  {
   "cell_type": "markdown",
   "id": "63c06079",
   "metadata": {},
   "source": [
    "### Distribution of all possible answer types"
   ]
  },
  {
   "cell_type": "code",
   "execution_count": 26,
   "id": "bf726534",
   "metadata": {},
   "outputs": [
    {
     "data": {
      "text/plain": [
       "[<matplotlib.lines.Line2D at 0x7f63c7a13be0>]"
      ]
     },
     "execution_count": 26,
     "metadata": {},
     "output_type": "execute_result"
    },
    {
     "data": {
      "image/png": "[encoded data removed]",
      "text/plain": [
       "<Figure size 432x288 with 1 Axes>"
      ]
     },
     "metadata": {
      "needs_background": "light"
     },
     "output_type": "display_data"
    }
   ],
   "source": [
    "plt.plot(c[ind])"
   ]
  },
  {
   "cell_type": "markdown",
   "id": "cbcb67a0",
   "metadata": {},
   "source": [
    "#### Possible number of answer types for a particular question"
   ]
  },
  {
   "cell_type": "code",
   "execution_count": 27,
   "id": "9fcd21ce",
   "metadata": {},
   "outputs": [
    {
     "data": {
      "text/plain": [
       "array([ 1,  2,  3,  4,  5,  6,  7,  8,  9, 10, 11, 12, 13, 14, 15, 16, 17,\n",
       "       18, 19, 20, 21, 22, 23, 24, 25])"
      ]
     },
     "execution_count": 27,
     "metadata": {},
     "output_type": "execute_result"
    }
   ],
   "source": [
    "np.unique(num_types)"
   ]
  },
  {
   "cell_type": "code",
   "execution_count": 28,
   "id": "0abe0765",
   "metadata": {},
   "outputs": [
    {
     "ename": "IndexError",
     "evalue": "index 1 is out of bounds for axis 0 with size 0",
     "output_type": "error",
     "traceback": [
      "\u001b[0;31m---------------------------------------------------------------------------\u001b[0m",
      "\u001b[0;31mIndexError\u001b[0m                                Traceback (most recent call last)",
      "Input \u001b[0;32mIn [28]\u001b[0m, in \u001b[0;36m<cell line: 1>\u001b[0;34m()\u001b[0m\n\u001b[0;32m----> 1\u001b[0m at_db_train[\u001b[43mnp\u001b[49m\u001b[38;5;241;43m.\u001b[39;49m\u001b[43mwhere\u001b[49m\u001b[43m(\u001b[49m\u001b[43mnum_types\u001b[49m\u001b[38;5;241;43m==\u001b[39;49m\u001b[38;5;241;43m627\u001b[39;49m\u001b[43m)\u001b[49m\u001b[43m[\u001b[49m\u001b[38;5;241;43m0\u001b[39;49m\u001b[43m]\u001b[49m\u001b[43m[\u001b[49m\u001b[38;5;241;43m1\u001b[39;49m\u001b[43m]\u001b[49m]\n",
      "\u001b[0;31mIndexError\u001b[0m: index 1 is out of bounds for axis 0 with size 0"
     ]
    }
   ],
   "source": [
    "at_db_train[np.where(num_types==627)[0][1]]"
   ]
  },
  {
   "cell_type": "code",
   "execution_count": 29,
   "id": "9ef3d5ae",
   "metadata": {
    "scrolled": true
   },
   "outputs": [
    {
     "ename": "IndexError",
     "evalue": "index 2 is out of bounds for axis 0 with size 0",
     "output_type": "error",
     "traceback": [
      "\u001b[0;31m---------------------------------------------------------------------------\u001b[0m",
      "\u001b[0;31mIndexError\u001b[0m                                Traceback (most recent call last)",
      "Input \u001b[0;32mIn [29]\u001b[0m, in \u001b[0;36m<cell line: 1>\u001b[0;34m()\u001b[0m\n\u001b[0;32m----> 1\u001b[0m at_db_train[\u001b[43mnp\u001b[49m\u001b[38;5;241;43m.\u001b[39;49m\u001b[43mwhere\u001b[49m\u001b[43m(\u001b[49m\u001b[43mnum_types\u001b[49m\u001b[38;5;241;43m==\u001b[39;49m\u001b[38;5;241;43m627\u001b[39;49m\u001b[43m)\u001b[49m\u001b[43m[\u001b[49m\u001b[38;5;241;43m0\u001b[39;49m\u001b[43m]\u001b[49m\u001b[43m[\u001b[49m\u001b[38;5;241;43m2\u001b[39;49m\u001b[43m]\u001b[49m]\n",
      "\u001b[0;31mIndexError\u001b[0m: index 2 is out of bounds for axis 0 with size 0"
     ]
    }
   ],
   "source": [
    "at_db_train[np.where(num_types==627)[0][2]]"
   ]
  },
  {
   "cell_type": "code",
   "execution_count": 30,
   "id": "373992f0",
   "metadata": {
    "scrolled": true
   },
   "outputs": [
    {
     "ename": "IndexError",
     "evalue": "index 0 is out of bounds for axis 0 with size 0",
     "output_type": "error",
     "traceback": [
      "\u001b[0;31m---------------------------------------------------------------------------\u001b[0m",
      "\u001b[0;31mIndexError\u001b[0m                                Traceback (most recent call last)",
      "Input \u001b[0;32mIn [30]\u001b[0m, in \u001b[0;36m<cell line: 1>\u001b[0;34m()\u001b[0m\n\u001b[0;32m----> 1\u001b[0m at_db_train[\u001b[43mnp\u001b[49m\u001b[38;5;241;43m.\u001b[39;49m\u001b[43mwhere\u001b[49m\u001b[43m(\u001b[49m\u001b[43mnum_types\u001b[49m\u001b[38;5;241;43m==\u001b[39;49m\u001b[38;5;241;43m93\u001b[39;49m\u001b[43m)\u001b[49m\u001b[43m[\u001b[49m\u001b[38;5;241;43m0\u001b[39;49m\u001b[43m]\u001b[49m\u001b[43m[\u001b[49m\u001b[38;5;241;43m0\u001b[39;49m\u001b[43m]\u001b[49m]\n",
      "\u001b[0;31mIndexError\u001b[0m: index 0 is out of bounds for axis 0 with size 0"
     ]
    }
   ],
   "source": [
    "at_db_train[np.where(num_types==93)[0][0]]"
   ]
  },
  {
   "cell_type": "code",
   "execution_count": 9,
   "id": "d44b4591",
   "metadata": {},
   "outputs": [
    {
     "ename": "NameError",
     "evalue": "name 'num_types' is not defined",
     "output_type": "error",
     "traceback": [
      "\u001b[0;31m---------------------------------------------------------------------------\u001b[0m",
      "\u001b[0;31mNameError\u001b[0m                                 Traceback (most recent call last)",
      "Input \u001b[0;32mIn [9]\u001b[0m, in \u001b[0;36m<cell line: 1>\u001b[0;34m()\u001b[0m\n\u001b[0;32m----> 1\u001b[0m at_db_train[np\u001b[38;5;241m.\u001b[39mwhere(\u001b[43mnum_types\u001b[49m\u001b[38;5;241m==\u001b[39m\u001b[38;5;241m93\u001b[39m)[\u001b[38;5;241m0\u001b[39m][\u001b[38;5;241m1\u001b[39m]]\n",
      "\u001b[0;31mNameError\u001b[0m: name 'num_types' is not defined"
     ]
    }
   ],
   "source": [
    "at_db_train[np.where(num_types==93)[0][1]]"
   ]
  },
  {
   "cell_type": "code",
   "execution_count": 14,
   "id": "9a2c7381",
   "metadata": {},
   "outputs": [
    {
     "data": {
      "text/plain": [
       "11515"
      ]
     },
     "execution_count": 14,
     "metadata": {},
     "output_type": "execute_result"
    }
   ],
   "source": [
    "len(np.where(num_types==1)[0])"
   ]
  },
  {
   "cell_type": "code",
   "execution_count": 20,
   "id": "1a7d325c",
   "metadata": {},
   "outputs": [
    {
     "data": {
      "text/plain": [
       "3"
      ]
     },
     "execution_count": 20,
     "metadata": {},
     "output_type": "execute_result"
    }
   ],
   "source": [
    "len(np.where(num_types==627)[0])"
   ]
  },
  {
   "cell_type": "code",
   "execution_count": 21,
   "id": "3b56b494",
   "metadata": {},
   "outputs": [
    {
     "data": {
      "text/plain": [
       "1"
      ]
     },
     "execution_count": 21,
     "metadata": {},
     "output_type": "execute_result"
    }
   ],
   "source": [
    "len(np.where(num_types==93)[0])"
   ]
  },
  {
   "cell_type": "markdown",
   "id": "c7ed7449",
   "metadata": {},
   "source": [
    "### after removing multiple answer types for a particular question"
   ]
  },
  {
   "cell_type": "code",
   "execution_count": 24,
   "id": "4dc1c5bd",
   "metadata": {},
   "outputs": [],
   "source": [
    "categories = []\n",
    "num_types = []\n",
    "types = []\n",
    "\n",
    "for entry in at_db_train:\n",
    "    categories.append(entry['category'])\n",
    "    num_types.append(len(np.unique(entry['type'])))\n",
    "    types.append(np.unique(entry['type']))\n",
    "\n",
    "types_merged = [a for sublist in types for a in sublist]\n",
    "num_types = np.array(num_types)"
   ]
  },
  {
   "cell_type": "code",
   "execution_count": 25,
   "id": "3f50edfc",
   "metadata": {},
   "outputs": [],
   "source": [
    "t, c = np.unique(types_merged, return_counts=True)\n",
    "ind = np.argsort(-c)"
   ]
  },
  {
   "cell_type": "markdown",
   "id": "27da442c",
   "metadata": {},
   "source": [
    "### New distribution of answer types"
   ]
  },
  {
   "cell_type": "code",
   "execution_count": 26,
   "id": "3cee0082",
   "metadata": {},
   "outputs": [
    {
     "data": {
      "text/plain": [
       "[<matplotlib.lines.Line2D at 0x7f573e6441f0>]"
      ]
     },
     "execution_count": 26,
     "metadata": {},
     "output_type": "execute_result"
    },
    {
     "data": {
      "image/png": "[encoded data removed]",
      "text/plain": [
       "<Figure size 432x288 with 1 Axes>"
      ]
     },
     "metadata": {
      "needs_background": "light"
     },
     "output_type": "display_data"
    }
   ],
   "source": [
    "plt.plot(c[ind])"
   ]
  },
  {
   "cell_type": "code",
   "execution_count": 27,
   "id": "9f53227d",
   "metadata": {},
   "outputs": [
    {
     "data": {
      "text/plain": [
       "array([ 1,  2,  3,  4,  5,  6,  7,  8,  9, 10, 11, 12, 23, 27, 31])"
      ]
     },
     "execution_count": 27,
     "metadata": {},
     "output_type": "execute_result"
    }
   ],
   "source": [
    "np.unique(num_types)"
   ]
  },
  {
   "cell_type": "code",
   "execution_count": 33,
   "id": "239e9c62",
   "metadata": {},
   "outputs": [
    {
     "data": {
      "text/plain": [
       "[11560, 7340, 4578, 4556, 5161, 2425, 492, 411, 85, 31, 5, 19, 1, 1, 5]"
      ]
     },
     "execution_count": 33,
     "metadata": {},
     "output_type": "execute_result"
    }
   ],
   "source": [
    "[len(np.where(num_types==x)[0]) for x in np.unique(num_types)]"
   ]
  },
  {
   "cell_type": "markdown",
   "id": "1ddc6ac3",
   "metadata": {},
   "source": [
    "### 21 Aug 2022"
   ]
  },
  {
   "cell_type": "code",
   "execution_count": 32,
   "id": "afe3e2cf",
   "metadata": {},
   "outputs": [],
   "source": [
    "categories = []\n",
    "num_types = []\n",
    "types = []\n",
    "\n",
    "for entry in at_db_train:\n",
    "    categories.append(entry['category'])\n",
    "    num_types.append(len(np.unique(entry['type'])))\n",
    "    types.append(np.unique(entry['type']))\n",
    "    \n",
    "categories = np.array(categories)\n",
    "num_types = np.array(num_types)\n",
    "types = np.array(types, dtype=object)\n",
    "#types = [a for sublist in types for a in sublist]"
   ]
  },
  {
   "cell_type": "code",
   "execution_count": 33,
   "id": "569d6a45",
   "metadata": {},
   "outputs": [
    {
     "data": {
      "text/plain": [
       "36670"
      ]
     },
     "execution_count": 33,
     "metadata": {},
     "output_type": "execute_result"
    }
   ],
   "source": [
    "len(categories)"
   ]
  },
  {
   "cell_type": "code",
   "execution_count": 34,
   "id": "33883b08",
   "metadata": {},
   "outputs": [
    {
     "data": {
      "text/plain": [
       "36670"
      ]
     },
     "execution_count": 34,
     "metadata": {},
     "output_type": "execute_result"
    }
   ],
   "source": [
    "len(types)"
   ]
  },
  {
   "cell_type": "code",
   "execution_count": 35,
   "id": "891f791e",
   "metadata": {},
   "outputs": [
    {
     "data": {
      "text/plain": [
       "(36670,)"
      ]
     },
     "execution_count": 35,
     "metadata": {},
     "output_type": "execute_result"
    }
   ],
   "source": [
    "types.shape"
   ]
  },
  {
   "cell_type": "code",
   "execution_count": 42,
   "id": "289839da",
   "metadata": {},
   "outputs": [
    {
     "name": "stdout",
     "output_type": "stream",
     "text": [
      "2227\n",
      "4217\n",
      "30226\n"
     ]
    }
   ],
   "source": [
    "print(np.sum(categories=='boolean'))\n",
    "print(np.sum(categories=='literal'))\n",
    "print(np.sum(categories=='resource'))"
   ]
  },
  {
   "cell_type": "code",
   "execution_count": 51,
   "id": "455e5dee",
   "metadata": {},
   "outputs": [],
   "source": [
    "resource_types = types[np.where(categories=='resource')[0]]"
   ]
  },
  {
   "cell_type": "code",
   "execution_count": 65,
   "id": "fda73479",
   "metadata": {},
   "outputs": [],
   "source": [
    "xx = np.unique(np.array([len(resource_types[x]) for x in range(len(resource_types))]))"
   ]
  },
  {
   "cell_type": "code",
   "execution_count": 75,
   "id": "7971f8d4",
   "metadata": {},
   "outputs": [],
   "source": [
    "yy = [np.sum([True for t in resource_types if len(t)==num]) for num in xx]"
   ]
  },
  {
   "cell_type": "code",
   "execution_count": 80,
   "id": "e2a1759b",
   "metadata": {},
   "outputs": [
    {
     "data": {
      "text/plain": [
       "Text(0, 0.5, 'Number of questions')"
      ]
     },
     "execution_count": 80,
     "metadata": {},
     "output_type": "execute_result"
    },
    {
     "data": {
      "image/png": "[encoded data removed]",
      "text/plain": [
       "<Figure size 432x288 with 1 Axes>"
      ]
     },
     "metadata": {
      "needs_background": "light"
     },
     "output_type": "display_data"
    }
   ],
   "source": [
    "plt.scatter(xx,yy)\n",
    "plt.grid('on')\n",
    "plt.xlabel('Number of resource types for a question')\n",
    "plt.ylabel('Number of questions')"
   ]
  },
  {
   "cell_type": "code",
   "execution_count": null,
   "id": "92fe6e6f",
   "metadata": {},
   "outputs": [],
   "source": []
  }
 ],
 "metadata": {
  "kernelspec": {
   "display_name": "Python 3 (ipykernel)",
   "language": "python",
   "name": "python3"
  },
  "language_info": {
   "codemirror_mode": {
    "name": "ipython",
    "version": 3
   },
   "file_extension": ".py",
   "mimetype": "text/x-python",
   "name": "python",
   "nbconvert_exporter": "python",
   "pygments_lexer": "ipython3",
   "version": "3.9.12"
  }
 },
 "nbformat": 4,
 "nbformat_minor": 5
}
