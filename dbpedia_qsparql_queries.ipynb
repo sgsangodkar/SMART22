{
 "cells": [
  {
   "cell_type": "code",
   "execution_count": 1,
   "metadata": {
    "id": "BWtDd56HnqdQ"
   },
   "outputs": [
    {
     "name": "stdout",
     "output_type": "stream",
     "text": [
      "Collecting rdflib\n",
      "  Downloading rdflib-6.2.0-py3-none-any.whl (500 kB)\n",
      "\u001b[K     |████████████████████████████████| 500 kB 4.9 MB/s eta 0:00:01\n",
      "\u001b[?25hCollecting isodate\n",
      "  Downloading isodate-0.6.1-py2.py3-none-any.whl (41 kB)\n",
      "\u001b[K     |████████████████████████████████| 41 kB 80 kB/s  eta 0:00:01\n",
      "\u001b[?25hRequirement already satisfied: pyparsing in /home/hitachi/anaconda3/lib/python3.9/site-packages (from rdflib) (3.0.4)\n",
      "Requirement already satisfied: setuptools in /home/hitachi/anaconda3/lib/python3.9/site-packages (from rdflib) (61.2.0)\n",
      "Requirement already satisfied: six in /home/hitachi/anaconda3/lib/python3.9/site-packages (from isodate->rdflib) (1.16.0)\n",
      "Installing collected packages: isodate, rdflib\n",
      "Successfully installed isodate-0.6.1 rdflib-6.2.0\n",
      "Collecting SPARQLWrapper\n",
      "  Downloading SPARQLWrapper-2.0.0-py3-none-any.whl (28 kB)\n",
      "Requirement already satisfied: rdflib>=6.1.1 in /home/hitachi/anaconda3/lib/python3.9/site-packages (from SPARQLWrapper) (6.2.0)\n",
      "Requirement already satisfied: setuptools in /home/hitachi/anaconda3/lib/python3.9/site-packages (from rdflib>=6.1.1->SPARQLWrapper) (61.2.0)\n",
      "Requirement already satisfied: pyparsing in /home/hitachi/anaconda3/lib/python3.9/site-packages (from rdflib>=6.1.1->SPARQLWrapper) (3.0.4)\n",
      "Requirement already satisfied: isodate in /home/hitachi/anaconda3/lib/python3.9/site-packages (from rdflib>=6.1.1->SPARQLWrapper) (0.6.1)\n",
      "Requirement already satisfied: six in /home/hitachi/anaconda3/lib/python3.9/site-packages (from isodate->rdflib>=6.1.1->SPARQLWrapper) (1.16.0)\n",
      "Installing collected packages: SPARQLWrapper\n",
      "Successfully installed SPARQLWrapper-2.0.0\n"
     ]
    }
   ],
   "source": [
    "!pip install rdflib\n",
    "!pip install SPARQLWrapper"
   ]
  },
  {
   "cell_type": "code",
   "execution_count": 2,
   "metadata": {
    "id": "6hUU-Rzond93"
   },
   "outputs": [],
   "source": [
    "from rdflib import Graph\n",
    "from SPARQLWrapper import SPARQLWrapper, JSON, N3\n",
    "from pprint import pprint\n",
    "\n",
    "sparql = SPARQLWrapper('https://dbpedia.org/sparql')\n"
   ]
  },
  {
   "cell_type": "code",
   "execution_count": 13,
   "metadata": {
    "colab": {
     "base_uri": "https://localhost:8080/",
     "height": 228
    },
    "id": "Jl3Bo-m0nmUU",
    "outputId": "d526c796-d367-4d44-d6f0-eab1069934ee"
   },
   "outputs": [
    {
     "name": "stdout",
     "output_type": "stream",
     "text": [
      "Lang: en\tValue: Barack Obama\n",
      "Lang: ar\tValue: باراك أوباما\n",
      "Lang: ca\tValue: Barack Obama\n",
      "Lang: cs\tValue: Barack Obama\n",
      "Lang: el\tValue: Μπαράκ Ομπάμα\n",
      "Lang: de\tValue: Barack Obama\n",
      "Lang: eo\tValue: Barack Obama\n",
      "Lang: es\tValue: Barack Obama\n",
      "Lang: eu\tValue: Barack Obama\n",
      "Lang: fr\tValue: Barack Obama\n",
      "Lang: ga\tValue: Barack Obama\n",
      "Lang: in\tValue: Barack Obama\n",
      "Lang: ja\tValue: バラク・オバマ\n",
      "Lang: it\tValue: Barack Obama\n",
      "Lang: nl\tValue: Barack Obama\n",
      "Lang: ko\tValue: 버락 오바마\n",
      "Lang: pt\tValue: Barack Obama\n",
      "Lang: pl\tValue: Barack Obama\n",
      "Lang: sv\tValue: Barack Obama\n",
      "Lang: ru\tValue: Обама, Барак\n",
      "Lang: uk\tValue: Барак Обама\n",
      "Lang: zh\tValue: 贝拉克·奥巴马\n"
     ]
    }
   ],
   "source": [
    "sparql = SPARQLWrapper('https://dbpedia.org/sparql')\n",
    "sparql.setQuery('''\n",
    "    SELECT ?object\n",
    "    WHERE { dbr:Barack_Obama rdfs:label ?object .}\n",
    "    # WHERE { dbr:Barack_Obama dbo:abstract ?object .}\n",
    "''')\n",
    "sparql.setReturnFormat(JSON)\n",
    "qres = sparql.query().convert()\n",
    "\n",
    "# pprint(qres)\n",
    "for result in qres['results']['bindings']:\n",
    "    # print(result['object'])\n",
    "    \n",
    "    lang, value = result['object']['xml:lang'], result['object']['value']\n",
    "    print(f'Lang: {lang}\\tValue: {value}')\n",
    "    # if lang == 'en':\n",
    "        # print(value)"
   ]
  },
  {
   "cell_type": "code",
   "execution_count": 14,
   "metadata": {},
   "outputs": [
    {
     "name": "stdout",
     "output_type": "stream",
     "text": [
      "Lang: ar\tValue: باراك أوباما واسمه الكامل باراك حسين أوباما الابن (بالإنجليزية: Barack Hussein Obama, Jr.)‏؛ (4 أغسطس 1961 –) هو الرئيس الرابع والأربعون للولايات المتحدة الأمريكية من 20 يناير 2009 وحتى 20 يناير 2017، وأول رئيس من أصول أفريقية يصل للبيت الأبيض. حقق انتصاراً ساحقاً على خصمه جون ماكين وذلك بفوزه في بعض معاقل الجمهوريين مثل أوهايو وفيرجينيا في 4 نوفمبر 2008. حصل على جائزة نوبل للسلام لعام 2009 نظير جهوده في تقوية الدبلوماسية الدولية والتعاون بين الشعوب، وذلك قبل إكماله سنة في السلطة. تخرج في كلية كولومبيا بجامعة كولومبيا وكلية الحقوق بجامعة هارفارد، وكان من أوائل الأمريكيين من أصول أفريقية يتولى رئاسة مجلة هارفارد للقانون، كما كان يعمل في الأنشطة الاجتماعية في شيكاغو قبل حصوله على شهادة المحاماة. وعمل كمستشار للحقوق المدنية في شيكاغو، وقام بتدريس مادة القانون الدستوري في كلية الحقوق بجامعة شيكاغو في الفترة من 1992 إلى 2004. حاز على ثلاث فترات في مجلس الشيوخ بإلينوي وذلك في الفترة من 1997 إلى 2004. وعقب محاولة غير ناجحة للحصول على مقعد في مجلس النواب عام 2000 رشح نفسه لمجلس الشيوخ عام 2004، واستطاع أن يحوز على مقعد بالمجلس في مارس 2004، واستطاع بهذا الفور جذب انتباه الحزب الديمقراطي، وكان خطابه التلفزيوني الذي بُثَّ محلياً خلال المؤتمر الوطني الديمقراطي في يوليو من عام 2004 جعله نجما صاعدا على الصعيد الوطني في الحزب. وبعدها اُنْتُخِبَ لعضوية مجلس الشيوخ في نوفمبر 2004 وحاز على أكبر نسبة في تاريخ إلينوي. بدأ في خوض منافسات انتخابات الرئاسة في فبراير من عام 2007. وبعد حملة شديدة التنافس داخل الحزب الديمقراطي من أجل الحصول على ترشيح الحزب لخوض الانتخابات الرئاسية استطاع الحصول على ترشيح حزبه وذلك بعد تغلبه على منافسته هيلاري كلينتون، ليصبح أول مرشح للرئاسة من أصل أفريقي لحزب أمريكي كبير. في الانتخابات العامة التي جرت في 4 نوفمبر 2008 استطاع أن يهزم المرشح الجمهوري جون ماكين، ونصب رئيساً في 20 يناير 2009.\n",
      "Lang: cs\tValue: Barack Hussein Obama (* 4. srpna 1961 Honolulu) je americký právník a politik, v letech 2009–2017 prezident Spojených států amerických, jakožto první Afroameričan v tomto úřadu. Roku 1992 vstoupil do Demokratické strany, za kterou zasedal v senátu státu Illinois a později v Senátu Spojených států. V roce 2009 se stal nositelem Nobelovy ceny míru a časopis Time jej v letech 2008 a 2012 vyhlásil Osobností roku. V listopadu 2012 podruhé vyhrál prezidentské volby a obhájil tím svůj úřad na další čtyři roky.\n",
      "Lang: el\tValue: Ο Μπαράκ Χουσέιν Ομπάμα (Barack Hussein Obama II) (Χονολουλού, Χαβάη, 4 Αυγούστου 1961), είναι Αμερικανός πολιτικός και δικηγόρος, ο οποίος υπηρέτησε ως ο 44ος Πρόεδρος των Ηνωμένων Πολιτειών (2009-2017)· ο πρώτος Αφροαμερικανός που εκλέχθηκε σε αυτή τη θέση. Είναι Μέλος του Δημοκρατικού Κόμματος. Επίσης, υπηρέτησε και ως Γερουσιαστής των Ηνωμένων Πολιτειών για το Ιλινόι από το 2005 έως το 2008, καθώς και ως Μέλος της Γερουσίας του Ιλινόι για την 13η περιφέρεια από το 1997 έως το 2004. Εκλέχθηκε για πρώτη φορά Πρόεδρος των ΗΠΑ στις εκλογές της 4ης Νοεμβρίου του 2008 και ανέλαβε καθήκοντα στις 20 Ιανουαρίου 2009. Επανεκλέχθηκε, για δεύτερη συνεχόμενη θητεία, στις εκλογές της 6ης Νοεμβρίου 2012. Τον Οκτώβριο του 2009, έγινε ο τέταρτος Αμερικανός πρόεδρος που λαμβάνει Βραβείο Νόμπελ Ειρήνης, ενώ έχει ανακηρυχθεί δύο χρονιές (2008 και 2012) «Πρόσωπο της Χρονιάς» από το περιοδικό Time.\n",
      "Lang: en\tValue: Barack Hussein Obama II (/bəˈrɑːk huːˈseɪn oʊˈbɑːmə/ bə-RAHK hoo-SAYN oh-BAH-mə; born August 4, 1961) is an American politician who served as the 44th president of the United States from 2009 to 2017. A member of the Democratic Party, Obama was the first African-American president of the United States. He previously served as a U.S. senator from Illinois from 2005 to 2008 and as an Illinois state senator from 1997 to 2004. Obama was born in Honolulu, Hawaii. After graduating from Columbia University in 1983, he worked as a community organizer in Chicago. In 1988, he enrolled in Harvard Law School, where he was the first black president of the Harvard Law Review. After graduating, he became a civil rights attorney and an academic, teaching constitutional law at the University of Chicago Law School from 1992 to 2004. Turning to elective politics, he represented the 13th district in the Illinois Senate from 1997 until 2004, when he ran for the U.S. Senate. Obama received national attention in 2004 with his March Senate primary win, his well-received July Democratic National Convention keynote address, and his landslide November election to the Senate. In 2008, a year after beginning his campaign, and after a close primary campaign against Hillary Clinton, he was nominated by the Democratic Party for president. Obama was elected over Republican nominee John McCain in the general election and was inaugurated alongside his running mate Joe Biden, on January 20, 2009. Nine months later, he was named the 2009 Nobel Peace Prize laureate, a decision that drew a mixture of praise and criticism. Obama signed many landmark bills into law during his first two years in office. The main reforms include: the Affordable Care Act (ACA or \"Obamacare\"), although without a public health insurance option; the Dodd–Frank Wall Street Reform and Consumer Protection Act; and the Don't Ask, Don't Tell Repeal Act of 2010. The American Recovery and Reinvestment Act and Tax Relief, Unemployment Insurance Reauthorization, and Job Creation Act served as economic stimuli amidst the Great Recession. After a lengthy debate over the national debt limit, he signed the Budget Control and the American Taxpayer Relief Acts. In foreign policy, he increased U.S. troop levels in Afghanistan, reduced nuclear weapons with the United States–Russia New START treaty, and ended military involvement in the Iraq War. In 2011, Obama ordered the drone-strike killing of Anwar al-Awlaki, a US citizen and suspected al-Qaeda operative, leading to controversy. He ordered military involvement in Libya for the implementation of the UN Security Council Resolution 1973, contributing to the overthrow of Muammar Gaddafi. He also ordered the military operation that resulted in the death of Osama bin Laden. After winning re-election by defeating Republican opponent Mitt Romney, Obama was sworn in for a second term on January 20, 2013. During this term, he promoted inclusion for LGBT Americans. His administration filed briefs that urged the Supreme Court to strike down same-sex marriage bans as unconstitutional (United States v. Windsor and Obergefell v. Hodges); same-sex marriage was legalized nationwide in 2015 after the Court ruled so in Obergefell. He advocated for gun control in response to the Sandy Hook Elementary School shooting, indicating support for a ban on assault weapons, and issued wide-ranging executive actions concerning global warming and immigration. In foreign policy, he ordered military interventions in Iraq and Syria in response to gains made by ISIL after the 2011 withdrawal from Iraq, promoted discussions that led to the 2015 Paris Agreement on global climate change, oversaw and ultimately apologized for the deadly Kunduz hospital airstrike, continued the process of ending U.S. combat operations in Afghanistan in 2016, initiated sanctions against Russia following the invasion in Ukraine and again after interference in the 2016 U.S. elections, brokered the Joint Comprehensive Plan of Action nuclear deal with Iran, and normalized U.S. relations with Cuba. Obama nominated three justices to the Supreme Court: Sonia Sotomayor and Elena Kagan were confirmed as justices, while Merrick Garland was denied hearings or a vote from the Republican-majority Senate. Obama left office on January 20, 2017, and continues to reside in Washington, D.C. During Obama's terms as president, the United States' reputation abroad, as well as the American economy, significantly improved. Obama's presidency has generally been regarded favorably, and evaluations of his presidency among historians, political scientists, and the general public frequently place him among the upper tier of American presidents. Since leaving office, Obama has remained active in Democratic politics, including campaigning for candidates in the 2018 midterm elections, appearing at the 2020 Democratic National Convention and campaigning for Biden during the 2020 presidential election. Outside of politics, Obama has published three bestselling books: Dreams from My Father (1995), The Audacity of Hope (2006) and A Promised Land (2020).\n",
      "Lang: de\tValue: Barack Hussein Obama II [bəˈɹɑːk hʊˈseɪn oʊˈbɑːmə] (* 4. August 1961 in Honolulu, Hawaii) ist ein US-amerikanischer Politiker der Demokratischen Partei. Er war von 2009 bis 2017 der 44. Präsident der Vereinigten Staaten. Obama ist ein auf US-Verfassungsrecht spezialisierter Rechtsanwalt. 1992 schloss er sich der Demokratischen Partei an, für die er 1997 Mitglied im Senat von Illinois wurde. Im Anschluss gehörte er von 2005 bis 2008 als Junior Senator für diesen US-Bundesstaat dem Senat der Vereinigten Staaten an. Bei der Präsidentschaftswahl des Jahres 2008 errang er die Kandidatur seiner Partei und setzte sich dann gegen den Republikaner John McCain durch. Mit seinem Einzug in das Weiße Haus im Januar 2009 bekleidete erstmals ein Afroamerikaner das Amt des Präsidenten. Bei der Wahl des Jahres 2012 setzte sich Obama gegenüber seinem republikanischen Herausforderer Mitt Romney durch und wurde so für eine zweite Amtszeit bestätigt. Vizepräsident während seiner beiden Amtsperioden war Joe Biden. Nach der Präsidentschaftswahl 2016 löste ihn der Republikaner Donald Trump ab. Am 10. Dezember 2009 erhielt Obama in einer umstrittenen Entscheidung den Friedensnobelpreis.\n",
      "Lang: eo\tValue: Barack Hussein OBAMA II [baRAK huSEJN oŭBAma] (naskiĝis la 4-an de aŭgusto 1961) estis la 44-a Prezidanto de Usono. De 2005 ĝis 2008 li estis senatano por Ilinojo. Laŭ la Historia Oficejo de la Usona Senato, li estis la kvina afrik-usona senatano en la usona historio. Obama estis la ĉefa oratoro ĉe la 2004-a nacia kunveno de la demokratia partio, kiam li ankoraŭ servis en la ŝtata senato de Ilinojo. En novembro 2004 li elektiĝis kun granda iomo en jaro de multaj gajnoj de la Usona Demokrata Partio. En 2008 li gajnis la antaŭbalotojn kontraŭ Hillary Clinton. La 4-an de novembro 2008, 47-jaraĝa, li gajnis la baloton kontraŭ John McCain. Pro tio li fariĝis la 44-a prezidanto de Usono, inaŭgurita la 20-an de januaro 2009. Li estas la unua usona prezidanto kiu ne havis du blankajn gepatrojn. La 6-an de novembro 2012, li regajnis la baloton, kontraŭ Mitt Romney. La 9-an de oktobro 2009 la Nobel-premio pri paco estis atribuita al Barack Obama.\n",
      "Lang: eu\tValue: Barack Hussein Obama Jr. (Honolulu, Hawaii, AEB, 1961ko abuztuaren 4a) politikaria da, 2009tik 2017raino AEBetako berrogeita laugarren lehendakaria izana. Gainera, Estatu Batuetako Senatuko bosgarren legegile afroamerikarra da, berreraikitze arotik hirugarrena. Herrialde hartako lehendakari izatera iritsi den lehen afro-amerikarra da. Columbia Unibertsitateko eta Harvard Law School-eko tituluduna da. Chicagoko Unibertsitateko zuzenbide fakultatean zuzenbide konstituzionala irakatsi zuen 1992tik 2004ra bitartean. Illinois estatuko senataria izan da. AEBtako Senatuko bosgarren legelari beltza izan zen, eta hirugarrena berreraikuntzatik. Ameriketako Estatu Batuetako Alderdi Demokratak izan duen bigarren senatari beltza da. 2007an Ameriketako Estatu Batuetako presidente izateko hautagaitza aurkeztu zuen, eta Hillary Clintonekin lehiatu zen hauteskundeetan Alderdi Demokrataren hautagai izateko. 2008ko ekainaren 5ean primarioak (lehen mailako hauteskundeak) irabazi zituen, eta hautagaia izateko aukera eskuratu. Azaroaren 4ko hauteskundeetan, Alderdi Errepublikanoko John McCain hautagaiaren aurka lehiatu eta garaile atera zen. Ameriketako Estatu Batuetako lehendakariorde izateko, Alderdi Demokratak Joe Biden izendatu zuen, Delaware estatuko senataria. 2009an Bakearen Nobel Saria eman zioten, nazioarteko diplomazia eta herrien arteko lankidetza bultzatzeagatik. Presidente gisa, bere agintaldian politika ekonomikoak bultzatu zituen, hala nola 2009ko Berrinbertsio eta Berreskuratze Legea edo 2010eko Enplegua Sortzeko eta Langabezia Asegurua berroneratzeko Legea. Beste ekimen politiko batzuen artean, Pazientea Babesteko eta Osasun Jasangarria zaintzeko legeak eta finantza-erreformari eta kontsumitzaileak babesteari buruzko Dodd-Frank Legea sartu dira. Bere bigarren agintaldian, Obamak LGBT estatubatuarren inklusioa sustatu zuen. 2017ko urtarrilaren 20an, Etxe Zuritik erretiratu zen, AEBetako presidente batek azken hamarkadetan izan duen ospe-indizerik handienetako batekin.\n",
      "Lang: es\tValue: Barack Hussein Obama II​ ( (?·i) en inglés estadounidense; Honolulu, Hawái; 4 de agosto de 1961) es un político estadounidense que ejerció como el 44.º presidente de los Estados Unidos de América desde el 20 de enero de 2009 hasta el 20 de enero de 2017.​ Fue senador por el estado de Illinois desde el 3 de enero de 2005 hasta su renuncia el 16 de noviembre de 2008.​ Además, es el quinto legislador afrodescendiente en el Senado de los Estados Unidos, tercero desde la era de reconstrucción. También fue el primer candidato afroestadounidense nominado a la presidencia por el Partido Demócrata y el primero en ejercer el cargo presidencial.​ Se graduó en la Universidad de Columbia y en la prestigiosa escuela de Derecho Harvard Law School, donde fue presidente de la revista Harvard Law Review.​ Posteriormente, trabajó como organizador comunitario y ejerció su carrera como abogado en derechos civiles, antes de ser elegido senador del estado de Illinois, desempeñando esa función desde 1997 a 2004. Fue profesor de Derecho constitucional en la facultad de Derecho de la Universidad de Chicago desde 1992 hasta 2004. En el año 2000, perdió la contienda electoral por un puesto en la Cámara de Representantes de los Estados Unidos, y tras su fracaso anterior, en enero de 2003 anunció su candidatura al Senado estadounidense. En marzo de 2004, venció en las elecciones primarias del partido demócrata, y en julio del mismo año pronunció el discurso de apertura de la Convención Nacional Demócrata, lo que impulsó su candidatura. Finalmente resultó elegido miembro del Senado en noviembre de 2004, con un 70 % de los votos a favor.​ Como representante de la minoría demócrata en el 109.º Congreso, impulsó junto con otros senadores la ley para el control de armas convencionales y para promover una mayor rendición pública de cuentas en el uso de fondos federales. Realizó viajes oficiales a Europa Oriental, Oriente Medio y África. En el 110.º Congreso promovió la legislación relacionada con los grupos de presión y con el fraude electoral, el calentamiento global, el terrorismo nuclear y la atención del personal militar que regrese a Estados Unidos desde las misiones militares en Irak y Afganistán. Desde el anuncio de su campaña presidencial en febrero de 2007, Obama hizo hincapié en poner fin a la guerra de Irak, el aumento de la independencia energética y la prestación de asistencia sanitaria universal como las grandes prioridades nacionales.​ El 10 de febrero de 2007, anunció su candidatura a la presidencia de los Estados Unidos y el 3 de junio de 2008 se convirtió en el candidato del Partido Demócrata.​ En las elecciones presidenciales del 4 de noviembre de 2008, se convirtió en presidente electo después de vencer al candidato presidencial republicano John McCain, tomando posesión de sus funciones como 44.º presidente el 20 de enero de 2009.​​ El 9 de octubre de dicho año le fue concedido el Premio Nobel de la Paz por sus esfuerzos diplomáticos en pro del desarme nuclear, la consecución de un proceso de paz en Oriente Medio y el fomento de la lucha contra el cambio climático.​ Como presidente, durante su mandato impulsó políticas económicas como la Ley de Reinversión y Recuperación de 2009 o la Ley de Creación de Empleo y Reautorización del Seguro de Desempleo de 2010. Otras iniciativas políticas domésticas han incluido las leyes de Protección al Paciente y Cuidado de Salud Asequible o la Ley Dodd-Frank de reforma financiera y de protección de los consumidores,​ o la revocación de la política Don't ask, don't tell sobre homosexualidad en el Ejército, todas de 2010, así como la Ley de Control del Presupuesto de 2011. Se incrementó la presencia de tropas norteamericanas en Afganistán, firmó el nuevo tratado START III de control de armas con Rusia, ordenó la intervención militar estadounidense en el conflicto libio. El 1 de mayo de 2011 anunció a los medios de comunicación que un grupo de las fuerzas especiales de la Armada Estadounidense (miembros del DEVGRU de los Navy SEALS) había matado al terrorista Osama bin Laden en Pakistán.​ El 4 de abril de 2011, anunció el inicio de su campaña de reelección presidencial para 2012​ y el 6 de noviembre fue reelegido para ejercer el cargo por un periodo de cuatro años más, tras vencer al candidato republicano Mitt Romney.​ Durante su segundo mandato, Obama promovió la inclusión para los estadounidenses LGBT, la intervención militar en Irak y Ucrania en respuesta a los avances logrados por ISIS y Rusia respectivamente en 2014, el acuerdo climático en París y la normalización de las relaciones de Estados Unidos con Cuba en 2015.[cita requerida] El 20 de enero de 2017, se retiró de la Casa Blanca con uno de los índices de popularidad más altos para un presidente estadounidense en las últimas décadas.​\n",
      "Lang: fr\tValue: Barack Obama /bəˈɹɑːk oʊˈbɑːmə/, né le 4 août 1961 à Honolulu (Hawaï), est un homme d'État américain. Il est le 44e président des États-Unis, en fonction du 20 janvier 2009 au 20 janvier 2017. Fils d'un Kényan noir et d'une Américaine blanche du Kansas d’ascendance anglaise et irlandaise, il est élevé durant plusieurs années en Indonésie. Diplômé de l'université Columbia de New York et de la faculté de droit de Harvard, il est, en 1990, le premier Afro-Américain à présider la prestigieuse Harvard Law Review. Après avoir été travailleur social dans les quartiers sud de Chicago durant les années 1980, puis avocat en droit civil à sa sortie de Harvard, il enseigne le droit constitutionnel à l'université de Chicago de 1992 à 2004. Marié à Michelle Robinson en 1992, Barack Obama entre en politique quatre ans plus tard : il est élu au Sénat de l'Illinois, où il effectue trois mandats, de 1997 à 2004. Il s'oppose à la guerre d'Irak lancée par George W. Bush et se fait connaître au niveau national par le discours qu'il prononce en juillet 2004 lors de la Convention nationale démocrate qui désigne John Kerry comme candidat à la présidence. Après avoir échoué à obtenir l'investiture du Parti démocrate pour la Chambre des représentants en 2000, il est élu au Sénat fédéral en novembre 2004. Il se présente ensuite aux primaires présidentielles démocrates face à Hillary Clinton ; devancé en nombre de voix, il l'emporte avec une légère avance en termes de délégués et devient ainsi le candidat du parti. Il obtient 52,9 % des voix et 365 grands électeurs à l'élection présidentielle de 2008 contre le républicain John McCain. Il est le premier homme métis ayant des origines africaines à accéder à la présidence des États-Unis. Son parcours a suscité chez les électeurs comme dans les médias du monde entier un grand intérêt. Sa présidence intervient dans un contexte de guerre en Irak, de guerre d'Afghanistan, de crise au Moyen-Orient, d'importante récession de l'économie américaine et de crise financière et économique mondiale. Il est le récipiendaire du Prix Nobel de la paix 2009. Il promulgue un plan de relance économique, met en place le renouvellement d'autorisation des assurances-chômages et les créations d'emplois, celle sur la protection des patients et des soins abordables ainsi qu'une réforme de la régulation financière en 2010. Dans le domaine de la politique étrangère, il retire progressivement les troupes américaines d'Irak, augmente celles présentes en Afghanistan et signe un traité de contrôle des armements avec la Russie. Il commande également l'opération qui aboutit à la mort d'Oussama ben Laden. En 2011, lors de la guerre civile libyenne, il contribue au renversement de Mouammar Kadhafi. Candidat à sa réélection lors de l'élection présidentielle de 2012, il est opposé au républicain Mitt Romney, qu'il bat avec 332 voix du collège électoral et 51 % des suffrages au niveau national. Durant son second mandat, Barack Obama tente de promouvoir un contrôle accru des armes à feu et la reconnaissance constitutionnelle réussie du mariage entre personnes du même sexe. En politique extérieure, il ordonne une intervention militaire en Irak et en Syrie contre l'État islamique. Il poursuit le processus de retrait des forces américaines d'Afghanistan. En 2013, il décommande à la dernière minute une opération de représailles contre le régime de Bachar el-Assad, alors que ce dernier utilise des armes chimiques contre la population civile des zones rebelles de Syrie. Il ratifie l'accord de Paris sur le climat, parvient à un accord sur le nucléaire iranien et normalise les relations américaines avec Cuba. Si ses derniers mois de présidence sont marqués par une popularité en hausse, avec une majorité d'opinions favorables au niveau national, le républicain Donald Trump lui succède après avoir emporté l'élection présidentielle de 2016 face à la candidate du Parti démocrate, Hillary Clinton, qui avait reçu le soutien de Barack Obama. À l’issue de l'élection de présidentielle de 2020, Joe Biden, vice-président des États-Unis durant les deux mandats d'Obama, succède à Donald Trump.\n",
      "Lang: ga\tValue: Ba é Barack Hussein Obama II (a rugadh ar 4 Lúnasa, 1961) 44ú hUachtarán na Stát Aontaithe. Tháinig Obama i gcomharbacht ar George W. Bush sa bhliain 2009. Is é Obama an t-aon duine gorm a toghadh mar Uachtarán agus ba é an t-aon seanadóir gorm sa Seanad sa téarma faoi dheireadh agus an cúigiú Seanadóir gorm i stair Mheiriceá. Ar an 9 Deireadh Fómhair 2009, bronnadh Duais Nobel na Síochána air.\n",
      "Lang: in\tValue: Barack Hussein Obama II (/bəˈrɑːk huːˈseɪn oʊˈbɑːmə/; lahir 4 Agustus 1961) adalah seorang politikus Amerika yang menjabat sebagai Presiden Amerika Serikat ke-44. Ia merupakan orang Afrika Amerika pertama yang menempati jabatan tersebut. Lahir di Honolulu, Hawaii, Obama merupakan lulusan Universitas Columbia dan Harvard Law School, tempat ia menjadi presiden Harvard Law Review. Ia dulunya seorang penggerak masyarakat di Chicago sebelum mendapat gelar hukumnya. Ia bekerja sebagai jaksa hak-hak sipil di Chicago dan mengajar hukum konstitusi di University of Chicago Law School sejak 1992 sampai 2004. Ia tiga kali mewakili Distrik ke-13 di Senat Illinois mulai tahun 1997 hingga 2004, namun tidak lolos ke tahap Dewan Perwakilan Rakyat Amerika Serikat tahun 2000. Pada tahun 2004, Obama mendapat perhatian nasional saat berkampanye mewakili Illionis di Senat Amerika Serikat melalui kemenangannya pada pemilu pendahuluan Partai Demokrat bulan Maret, pidatonya di Konvensi Nasional Demokrat bulan Juli, dan pemilihannya sebagai Senat pada bulan November. Ia memulai kampanye presidennya tahun 2007, dan pada tahun 2008, setelah kampanye pendahuluan melawan Hillary Rodham Clinton, Obama memenangkan mayoritas suara delegasi dalam pemilu pendahuluan partai Demokrat untuk dijadikan calon presiden. Ia kemudian mengalahkan calon dari Partai Republik John McCain dalam pemilihan umum presiden tahun 2008, dan dilantik sebagai presiden pada tanggal 20 Januari 2009. Sembilan bulan kemudian, Obama dinyatakan sebagai pemenang Hadiah Nobel Perdamaian 2009. Ia terpilih lagi sebagai presiden pada November 2012, mengalahkan Mitt Romney dari Partai Republik, dan dilantik untuk kedua kalinya pada tanggal 20 Januari 2013. Pada masa jabatan pertamanya, Obama mengesahkan undang-undang stimulus ekonomi sebagai tanggapan terhadap dalam bentuk dan Tax Relief, Unemployment Insurance Reauthorization, and Job Creation Act of 2010. Inisiatif besar dalam negeri lainnya pada masa pemerintahannya adalah Patient Protection and Affordable Care Act; Dodd–Frank Wall Street Reform and Consumer Protection Act; Don't Ask, Don't Tell Repeal Act of 2010; ; dan . Di bidang kebijakan luar negeri, Obama mengakhiri keterlibatan militer A.S. dalam Perang Irak, menambah jumlah tentara di Afganistan, menandatangani perjanjian pengendalian senjata New START bersama Rusia, memerintahkan intervensi militer A.S. di Libya, dan melaksanakan operasi militer yang berujung pada kematian Osama bin Laden. Pada bulan mei 2012, ia menjadi presiden A.S. pertama yang mendukung pengesahan pernikahan sesama jenis secara terbuka.\n",
      "Lang: ja\tValue: バラク・フセイン・オバマ2世（英語: Barack Hussein Obama II、[bəˈrɑːk huːˈseɪn oʊˈbɑːmə]、1961年8月4日 - ）は、アメリカ合衆国の政治家、弁護士。同国第44代大統領（在任：2009年1月20日 - 2017年1月20日）。イリノイ州議会上院議員、同州選出連邦上院議員などを歴任した。2009年1月20日に大統領に就任し、初のアフリカ系・有色人種・ハワイ生まれの大統領となり、2017年1月20日に2期8年の任期を務めあげた。なおバラック・オバマとも表記される。\n",
      "Lang: ko\tValue: 버락 후세인 오바마(영어: Barack Hussein Obama II, 문화어: 바라크 후쎄인 오바마, 1961년 8월 4일 ~ )는 미국의 정치인으로 미합중국 제44대 대통령이다. 2008년 미국 대통령 선거에 민주당 소속으로 출마, 미국 최초로 아프리카계 미국인으로 대통령에 당선되었으며, 2012년 미국 대통령 선거에서 재선에 성공해 총 8년의 임기를 마치고 퇴임하였다. 케냐 출신의 아버지와 유럽계 미국인 어머니 사이에서 태어난 물라토로, 컬럼비아 대학교와 하버드 로스쿨을 졸업하였으며, 로스쿨 재학 시절 하버드 로리뷰의 흑인 최초 편집장으로 활동하였다. 대학 졸업 후 로스쿨에 입학하기 전에 시카고에서 지역사회 조직가로 활동하였다. 그는 로스쿨 졸업 후 시카고로 돌아가 민권 변호사로 일하였으며 시카고 대학교 로스쿨에서 1992년부터 2004년까지 헌법학을 가르쳤다. 1997년에서 2004년 사이에 그는 일리노이 주 의회 상원에서 3선하였다. 2000년 미국 하원 선거에서 의석을 얻지 못한 그는 2004년에 상원 선거에 출마하였다. 2004년 3월 민주당 예비 선거에서 그가 승리하였으며, 2004년 7월 민주당 전당 대회의 그가 맡은 기조 연설이 황금 시간대에 TV로 방영되는 등 일리노이 출신 상원 의원 선거 유세를 하면서 여러 사건을 통해 그는 전국적인 관심을 끌었다. 2007년 2월에는 대통령 선거에 출마하였는데 2008년 민주당 대통령 후보 예비 선거에서 힐러리 클린턴과 치열한 유세전을 벌인 끝에 그는 민주당 대선 후보로 지명되었다. 2008년 11월 대통령 선거에서 그는 공화당 후보인 존 매케인을 압도적인 표차로 대통령에 당선되어 2009년 1월 20일에 제 44대 미국 대통령으로 취임하였다. 그리고 2009년에는 노벨 평화상을 수상하였다. 2012년 11월 6일 열린 2012년 미국 대통령 선거에선 민주당의 재선 후보로 지명되어 미트 롬니 후보를 332 대 206으로 누르고 연임에 성공하였다.\n",
      "Lang: it\tValue: Barack Hussein Obama II (/bəˈrɑːk hʊˈseɪn oʊˈbɑːmə/, ; Honolulu, 4 agosto 1961) è un politico statunitense, 44º presidente degli Stati Uniti d'America dal 2009 al 2017, prima persona di origini afroamericane a ricoprire tale carica. Figlio di un'antropologa originaria del Kansas e di un economista keniota, Obama si è laureato in scienze politiche alla Columbia University (1983) e in giurisprudenza alla Harvard Law School (1991), dove è stato la prima persona di colore a dirigere la rivista Harvard Law Review. Prima di portare a termine gli studi in legge, ha prestato la sua opera come «community organizer» a Chicago. Successivamente, ha lavorato come avvocato nel campo della difesa dei diritti civili, insegnando inoltre diritto costituzionale presso la Law School dell'Università di Chicago dal 1992 al 2004. Barack Obama è stato membro del Senato dell'Illinois per la durata di tre mandati, dal 1997 al 2004. Dopo essersi candidato senza successo alla Camera dei rappresentanti nel 2000, quattro anni più tardi concorse per il Senato federale, imponendosi a sorpresa nelle primarie del Partito Democratico del marzo 2004 su un folto gruppo di contendenti. L'inopinata vittoria alle primarie contribuì ad accrescere la sua notorietà; in seguito, il suo discorso introduttivo («keynote address») pronunciato in occasione della convention democratica di luglio lo rese una delle figure più eminenti del suo partito. Obama fu quindi eletto al Senato degli Stati Uniti nel novembre 2004, con il più ampio margine nella storia dell'Illinois, e prestò servizio come senatore junior dal gennaio 2005 al novembre 2008. Il 10 febbraio 2007 annunciò ufficialmente la propria candidatura alle successive consultazioni presidenziali. Alle elezioni primarie del Partito Democratico, dopo un'aspra contesa, sconfisse Hillary Clinton, senatrice in carica per lo Stato di New York e già first lady, favorita della vigilia; il 3 giugno 2008 Obama raggiunse il quorum necessario per la candidatura, divenendo così la prima persona di origini afroamericane a correre per la Casa Bianca in rappresentanza di uno dei due maggiori partiti. L'esponente del Partito Democratico vinse le elezioni presidenziali del 4 novembre 2008 contro John McCain, senatore repubblicano dell'Arizona, insediandosi formalmente alla presidenza il 20 gennaio successivo. Il 6 novembre 2012 fu riconfermato per un secondo mandato, imponendosi sul candidato repubblicano Mitt Romney. Il settimanale statunitense TIME lo ha prescelto quale «persona dell'anno» nel 2008 e nel 2012; nel 2009 è stato insignito del Premio Nobel per la pace «per i suoi sforzi straordinari volti a rafforzare la diplomazia internazionale e la cooperazione tra i popoli».\n",
      "Lang: pl\tValue: Barack Hussein Obama II (wym. /bəˈrɑ:k hu:ˈseɪn oʊˈbɑ:mə/, ur. 4 sierpnia 1961 w Honolulu) – amerykański polityk, demokrata, 44. prezydent Stanów Zjednoczonych, w latach 2005–2008 senator ze stanu Illinois, zwycięzca wyborów prezydenckich w 2008 i ponownie w 2012. Jest laureatem Pokojowej Nagrody Nobla za rok 2009 za wysiłki w celu ograniczenia arsenałów nuklearnych i pracę na rzecz pokoju na świecie; Człowiek Roku tygodnika „Time” w 2008 i 2012.\n",
      "Lang: nl\tValue: Barack Hussein Obama II (Honolulu, 4 augustus 1961) is een Amerikaans politicus, advocaat, en schrijver. Hij was de 44e president van de Verenigde Staten, in functie van 20 januari 2009 tot 20 januari 2017 gedurende twee ambtsperiodes. Hij was de eerste Amerikaanse president van (deels) Afrikaanse afkomst. Tussen 3 januari 2005 en 16 november 2008 was Obama senator voor Illinois en voordien was hij staatssenator in de wetgevende vergadering van zijn thuisstaat. Na het verslaan van de Republikeinse kandidaat John McCain tijdens de Amerikaanse presidentsverkiezingen 2008 werd hij op 20 januari 2009 tijdens de inauguratie op het Capitool beëdigd als president. Op 9 oktober 2009 kreeg Obama de Nobelprijs voor de Vrede. Hij werd herverkozen bij de Amerikaanse presidentsverkiezingen van 2012 door de Republikeinse kandidaat Mitt Romney met voorsprong qua kiesmannen te verslaan, maar minder afgetekend qua stemmenaantal en met een kleinere marge dan bij zijn overwinning in 2008.\n",
      "Lang: pt\tValue: Barack Hussein Obama II (Honolulu, 4 de agosto de 1961) é um advogado e político norte-americano que serviu como o 44.º presidente dos Estados Unidos de 2009 a 2017, sendo o primeiro afro-americano a ocupar o cargo. Nascido em Honolulu, no Havaí, Obama é graduado em ciência política pela Universidade Columbia e em direito pela Universidade de Harvard, onde foi presidente da Harvard Law Review. Também atuou como organizador comunitário, advogado na defesa de direitos civis e ensinou direito constitucional na escola de direito da Universidade de Chicago entre 1992 a 2004. Obama representou por três mandatos o 13.º distrito no Senado de Illinois entre 1994 a 2004, tentando eleger-se, sem sucesso, ao Congresso dos Estados Unidos em 2000. Em 2004, após vencer a primária democrata da eleição para o Senado em Illinois, Obama foi convidado para fazer o discurso principal da Convenção Nacional Democrata daquele ano, e, com isso recebeu atenção nacional da mídia. Em novembro, foi eleito Senador com quase 70% dos votos. Obama começou sua campanha presidencial em 2007 e em 2008, depois de uma acirrada disputa nas primárias do partido com Hillary Clinton, conseguiu apoio suficiente para ganhar a nomeação do Partido Democrata para a presidência dos Estados Unidos. Ele derrotou o candidato republicano John McCain na eleição geral de novembro, tendo sido empossado presidente em 20 de janeiro de 2009. Nove meses depois, ganhou o Nobel da Paz. Durante seu primeiro mandato, Obama sancionou propostas de estimulo econômico e outras iniciativas em resposta à Grande Recessão e à crise financeira. Outras importantes iniciativas nacionais neste período incluem a aprovação e sanção da Lei de Proteção e Cuidado ao Paciente, projeto este que passou a ser chamado de Obamacare, e revogou a política \"Não pergunte, não conte\". Na política externa, Obama ordenou o fim do envolvimento norte-americano na Guerra do Iraque, aumentou a quantidade de tropas no Afeganistão, assinou tratados de controle de armas com a Rússia, autorizou uma intervenção armada na Guerra Civil Líbia e ordenou uma operação militar no Paquistão que resultou na morte de Osama bin Laden. Obama foi reeleito presidente em novembro de 2012, derrotando o republicano Mitt Romney, e foi empossado para um segundo mandato em 20 de janeiro de 2013. Durante seu segundo mandato, Obama promoveu políticas internas relacionadas com o controle de armas, em resposta ao tiroteio na escola primária de Sandy Hook e outros massacres, e defendeu a igualdade LGBT. No âmbito externo, a fim de conter a ameaça do grupo Estado Islâmico na região do Oriente Médio, ordenou a volta de tropas militares ao Iraque e autorizou ataques aéreos e navais na Síria. Além disso, continuou o plano de encerramento das operações de combate norte-americanas no Afeganistão, promoveu discussões que levaram ao Acordo de Paris de 2015 sobre mudanças climáticas globais, firmou um acordo nuclear com o Irã, e iniciou o processo de normalização das relações entre Cuba e EUA. Ao deixar a presidência, em janeiro de 2017, Obama tinha um índice de aprovação de 60% dentre o povo americano, com seu governo também sendo bem avaliado entre os historiadores e acadêmicos.\n",
      "Lang: ru\tValue: Бара́к Хуссе́йн Оба́ма II (англ. Barack Hussein Obama II, произносится [bəˈrɑːk huːˈseɪn oʊˈbɑːmə] амер.: i/bəˈrɑːk huːˈseɪn ɵˈbɑːmə ði ˈsɛkənd/; род. 4 августа 1961, Гонолулу, Гавайи, США) — американский государственный и политический деятель, 44-й президент США с 20 января 2009 года по 20 января 2017 года. Лауреат Нобелевской премии мира 2009 года. До избрания президентом являлся федеральным сенатором от штата Иллинойс. Был впервые избран в ноябре 2008 года, переизбран на второй президентский срок в 2012 году. Первый афроамериканец, выдвинутый на пост президента США от одной из двух крупнейших партий, и первый в национальной истории глав государства темнокожий президент, а также президент с фамилией африканского и средним именем арабского этимологического происхождения. Обама — мулат, но, в отличие от большинства чёрных американцев, не потомок рабов, а сын студента из Кении и белой американки (Стэнли Энн Данхэм). Выпускник Колумбийского университета и Школы права Гарвардского университета, где он также был первым за всю его историю афроамериканцем — редактором университетского издания . Обама также работал общественным организатором и адвокатом в области гражданских прав. Преподавал конституционное право в Чикагском институте юридических наук с 1992 по 2004 год и одновременно трижды, в период с 1997 по 2004 год, избирался в сенат штата Иллинойс. После неудачной попытки баллотироваться в 2000 году в Палату представителей США в январе 2003 года баллотировался в Сенат США. После победы на праймериз (первичных выборах) в марте 2004 года Обама произнёс основную речь на Демократическом национальном съезде в июле 2004 года. Был избран в Сенат в ноябре 2004 года, набрав 70 % голосов. Как член Демократического меньшинства в Конгрессе 109-го созыва, он помог создать законы о регулировании обычных вооружений и увеличении прозрачности в использовании государственного бюджета. Он также совершил официальные поездки в Восточную Европу (в том числе в Россию), на Ближний Восток и в Африку. Во время работы в Конгрессе 110-го созыва участвовал в создании законов, касающихся мошенничества на выборах, лоббизма, изменения климата, ядерного терроризма и демобилизовавшихся американских военнослужащих. Обама объявил о своём желании баллотироваться в президенты в феврале 2007 года и в 2008 году на президентских праймериз на Демократическом национальном съезде был официально выдвинут от Демократической партии кандидатом в президенты вместе с кандидатом на пост вице-президента — сенатором от штата Делавэр Джозефом Байденом. На президентских выборах 2008 года Обама опередил кандидата от правившей Республиканской партии Джона Маккейна, набрав 52,9 % голосов избирателей и 365 голосов в коллегии выборщиков против 45,7 % и 173 у Маккейна. 9 октября 2009 года получил Нобелевскую премию мира с формулировкой «за экстраординарные усилия в укреплении международной дипломатии и сотрудничества между людьми». На президентских выборах 2012 года Обама опередил кандидата от Республиканской партии Митта Ромни, набрав 51,1 % голосов избирателей и 332 голоса в коллегии выборщиков против 47,2 % и 206 — у Ромни. Обама покинул свой пост 20 января 2017 года с рейтингом одобрения 60 %. В настоящее время он проживает в Вашингтоне. С тех пор его президентство положительно оценивается историками и широкой публикой. У него также был высокий рейтинг глобального одобрения, и репутация Соединённых Штатов резко изменилась во время его президентства.\n",
      "Lang: sv\tValue: Barack Hussein Obama II (engelskt uttal: [bəˈrɑːk huːˈseɪn oʊˈbɑːmə]), född 4 augusti 1961 i Honolulu på Hawaii, är en amerikansk advokat och demokratisk politiker som var USA:s 44:e president åren 2009–2017. Han tillträdde ämbetet den 20 januari 2009 efter att den 4 november 2008 ha vunnit presidentvalet. I presidentvalet den 6 november 2012 blev han omvald för ytterligare fyra år på posten; han kom då att sitta två perioder, vilket är det maximala för en president i USA. Han är den första afroamerikan som har valts till president och även den första afroamerikan som nominerats för ämbetet av ett större politiskt parti. Obama är utbildad jurist och avlade 1991 juristexamen (J.D.) vid Harvard Law School. Under studietiden var han även ordförande för Harvard Law Review. Han har även en kandidatexamen (B.A.) i statsvetenskap från Columbia University 1983. Före presidentskapet arbetade han som universitetslärare i statsrätt vid University of Chicago Law School åren 1992–2004. Han praktiserade även som medborgarrättsadvokat samt satt tre mandatperioder i delstatssenaten i Illinois åren 1997–2004. I november 2004 blev han invald i USA:s senat och var federal senator för Illinois åren 2005–2008. Under tiden som USA:s president (2009–2017) var hans största bedrifter införandet av en universell sjukförsäkring (Obamacare), genomdrivandet av ett stimulanspaket för investeringar i utbildning, infrastruktur, hälsovård och grön energi, en reform av regelverket för Wall Street, undertecknandet av Parisavtalet 2015, införandet av en ny immigrationslag som gav arbetstillstånd för vissa illegala invandrare och legaliseringen av samkönade äktenskap. Obama tilldelades Nobels fredspris i oktober 2009 för sina insatser att stärka internationell diplomati och samarbete. Detta efter att ha varit president i knappt nio månader. Att Obama tilldelades priset har i efterhand mött kritik. Geir Lundestad, direktör vid Norska Nobelinstitutet, har framhållit att priset inte fick den effekt på Obamas utrikespolitik som man önskat. Obamas utrikespolitik har kritiserats för att ha varit svag och gett utrymme för bland annat Ryssland, Kina och Nordkorea att utöka sin globala makt samt ökat den politiska instabiliteten i Mellanöstern. I december 2020 hade Obama en beräknad förmögenhet på minst 70 miljoner dollar. Detta är ungefär 50 gånger den förmögenhet på 1,3 miljoner dollar som han hade när han vann presidentvalet 2008. Efter presidentskapet tecknade Obama under 2018 ett samarbetsavtal med Netflix med vilka han och frun Michelle ska producera tv-serier och filmer.\n",
      "Lang: zh\tValue: 巴拉克·侯赛因·奥巴马二世（英語：Barack Hussein Obama II，美國 i/bəˈrɑːk huːˈseɪn oʊˈbɑːmə/；1961年8月4日－），是一名美国政治家，民主黨籍政治人物，從2009年至2017年期間擔任第44任美国总统。他是首位擁有非裔血統的美国总统。2005年至2008年代表伊利诺伊州担任聯邦參議員，从1997年至2004年担任伊利诺伊州参议员時居於芝加哥。卸任總統後，定居首都华盛頓特區。 奥巴马生於美国夏威夷州檀香山，他在夏威夷长大，但童年时期也在华盛顿州和印尼分别生活一年和四年。在1983年从哥伦比亚大学毕业之后，他在芝加哥做一名社区活动组织者。1988年奥巴马进入哈佛法学院，在那成为哈佛法律评论的第一名非裔总编辑。毕业后他成为一名民权律师，并从1997年至2004年在芝加哥大学法学院任宪制性法律教授。1997年当选伊利诺州参议员，并担任职务直至2004年参选联邦参议员。同年因意想不到的参议员初选胜利，在民主党全国代表大会上发表主题演讲和以绝对优势胜出参议员选举，成为全美知名的政治人物。2007年2月10日，他正式宣佈参加2008年美國總統選舉，同年6月击败同為參議員的希拉里·克林顿赢得民主党初选，并在總統选举中击败共和党的約翰·麥凱恩获得胜利。之后在2012年總統選舉中击败共和党的米特·羅姆尼获得连任。2009年10月9日，奥巴马获頒诺贝尔和平奖。 2017年1月，奧巴馬以60%的民意支持率结束任期。\n",
      "Lang: uk\tValue: Бара́к Хусе́йн Оба́ма (англ. Barack Hussein Obama; нар. 4 серпня 1961, Гонолулу, Гаваї, США) — американський політик, 44-й президент США, колишній сенатор від штату Іллінойс у конгресі США. Вперше обраний до сенату штату Іллінойс у 1996 році. Після невдалої спроби обратися в Палату Представників США в 2000 році, у листопаді 2004 року Барак Обама з великим відривом випередив політичних супротивників на виборах до Конгресу Сполучених Штатів Америки і став сенатором Конгресу. В Демократичній партії отримав номінацію на посаду президента і 23 серпня 2008 року оголосив про вибір кандидатури Джо Байдена на посаду віцепрезидента. За результатами виборів 4 листопада 2008 здобув перемогу над республіканським кандидатом Джоном Маккейном; 20 січня 2009 року став Президентом США. У листопаді 2012 року був обраний на другий термін. Склав повноваження 20 січня 2017 року. Перший президент США, який є афроамериканцем.\n"
     ]
    }
   ],
   "source": [
    "sparql = SPARQLWrapper('https://dbpedia.org/sparql')\n",
    "sparql.setQuery('''\n",
    "    SELECT ?object\n",
    "    WHERE { dbr:Barack_Obama dbo:abstract ?object .}\n",
    "''')\n",
    "sparql.setReturnFormat(JSON)\n",
    "qres = sparql.query().convert()\n",
    "\n",
    "# pprint(qres)\n",
    "for result in qres['results']['bindings']:\n",
    "    # print(result['object'])\n",
    "    \n",
    "    lang, value = result['object']['xml:lang'], result['object']['value']\n",
    "    print(f'Lang: {lang}\\tValue: {value}')\n",
    "    # if lang == 'en':\n",
    "        # print(value)"
   ]
  },
  {
   "cell_type": "code",
   "execution_count": 33,
   "metadata": {},
   "outputs": [
    {
     "name": "stdout",
     "output_type": "stream",
     "text": [
      "PopulatedPlace\n",
      "Place\n"
     ]
    }
   ],
   "source": [
    "owl = '<http://www.w3.org/2002/07/owl#>'\n",
    "rdfs = '<http://www.w3.org/2000/01/rdf-schema#>'\n",
    "dbo = '<http://dbpedia.org/ontology/>'\n",
    "\n",
    "sparql.setQuery('''\n",
    "    SELECT DISTINCT ?parentClass \n",
    "    WHERE { dbo:State rdfs:subClassOf* ?parentClass .\n",
    "    FILTER(?parentClass != dbo:State && CONTAINS(STR(?parentClass), \"dbpedia\"))\n",
    "    }\n",
    "''')\n",
    "sparql.setReturnFormat(JSON)\n",
    "qres = sparql.query().convert()\n",
    "for x in qres['results']['bindings']:\n",
    "    print(x['parentClass']['value'].split('/')[-1])"
   ]
  },
  {
   "cell_type": "code",
   "execution_count": 15,
   "metadata": {
    "colab": {
     "base_uri": "https://localhost:8080/",
     "height": 615
    },
    "id": "KorERmgZJFrK",
    "outputId": "5fc1ab5a-de12-4c8b-99b3-92be38ae3357"
   },
   "outputs": [
    {
     "ename": "AttributeError",
     "evalue": "'str' object has no attribute 'decode'",
     "output_type": "error",
     "traceback": [
      "\u001b[0;31m---------------------------------------------------------------------------\u001b[0m",
      "\u001b[0;31mAttributeError\u001b[0m                            Traceback (most recent call last)",
      "Input \u001b[0;32mIn [15]\u001b[0m, in \u001b[0;36m<cell line: 16>\u001b[0;34m()\u001b[0m\n\u001b[1;32m     14\u001b[0m g \u001b[38;5;241m=\u001b[39m Graph()\n\u001b[1;32m     15\u001b[0m g\u001b[38;5;241m.\u001b[39mparse(data\u001b[38;5;241m=\u001b[39mqres, \u001b[38;5;28mformat\u001b[39m\u001b[38;5;241m=\u001b[39m\u001b[38;5;124m'\u001b[39m\u001b[38;5;124mn3\u001b[39m\u001b[38;5;124m'\u001b[39m)\n\u001b[0;32m---> 16\u001b[0m \u001b[38;5;28mprint\u001b[39m(\u001b[43mg\u001b[49m\u001b[38;5;241;43m.\u001b[39;49m\u001b[43mserialize\u001b[49m\u001b[43m(\u001b[49m\u001b[38;5;28;43mformat\u001b[39;49m\u001b[38;5;241;43m=\u001b[39;49m\u001b[38;5;124;43m'\u001b[39;49m\u001b[38;5;124;43mttl\u001b[39;49m\u001b[38;5;124;43m'\u001b[39;49m\u001b[43m)\u001b[49m\u001b[38;5;241;43m.\u001b[39;49m\u001b[43mdecode\u001b[49m(\u001b[38;5;124m'\u001b[39m\u001b[38;5;124mu8\u001b[39m\u001b[38;5;124m'\u001b[39m))\n",
      "\u001b[0;31mAttributeError\u001b[0m: 'str' object has no attribute 'decode'"
     ]
    }
   ],
   "source": [
    "sparql = SPARQLWrapper(\"http://dbpedia.org/sparql\")\n",
    "sparql.setQuery('''\n",
    "CONSTRUCT { dbc:Machine_learning skos:broader ?parent .\n",
    "            dbc:Machine_learning skos:narrower ?child .} \n",
    "WHERE {\n",
    "    { dbc:Machine_learning skos:broader ?parent . }\n",
    "UNION\n",
    "    { ?child skos:broader dbc:Machine_learning . }\n",
    "}''')\n",
    "\n",
    "sparql.setReturnFormat(N3)\n",
    "qres = sparql.query().convert()\n",
    "\n",
    "g = Graph()\n",
    "g.parse(data=qres, format='n3')\n",
    "print(g.serialize(format='ttl').decode('u8'))"
   ]
  },
  {
   "cell_type": "code",
   "execution_count": 11,
   "metadata": {},
   "outputs": [],
   "source": [
    "import ssl\n",
    "ctx = ssl.create_default_context()\n",
    "ctx.check_hostname = False\n",
    "ctx.verify_mode = ssl.CERT_NONE\n",
    "ssl._create_default_https_context = ssl._create_unverified_context"
   ]
  },
  {
   "cell_type": "code",
   "execution_count": 18,
   "metadata": {
    "colab": {
     "base_uri": "https://localhost:8080/",
     "height": 1000
    },
    "id": "VEHlxcM04MPv",
    "outputId": "a6726b19-ebcf-443c-dac7-80ecbb03cd92"
   },
   "outputs": [
    {
     "name": "stdout",
     "output_type": "stream",
     "text": [
      "###########################################\n"
     ]
    },
    {
     "ename": "IndexError",
     "evalue": "list index out of range",
     "output_type": "error",
     "traceback": [
      "\u001b[0;31m---------------------------------------------------------------------------\u001b[0m",
      "\u001b[0;31mIndexError\u001b[0m                                Traceback (most recent call last)",
      "Input \u001b[0;32mIn [18]\u001b[0m, in \u001b[0;36m<cell line: 10>\u001b[0;34m()\u001b[0m\n\u001b[1;32m     22\u001b[0m sparql\u001b[38;5;241m.\u001b[39msetReturnFormat(JSON)\n\u001b[1;32m     23\u001b[0m qres \u001b[38;5;241m=\u001b[39m sparql\u001b[38;5;241m.\u001b[39mquery()\u001b[38;5;241m.\u001b[39mconvert()\n\u001b[0;32m---> 25\u001b[0m result \u001b[38;5;241m=\u001b[39m \u001b[43mqres\u001b[49m\u001b[43m[\u001b[49m\u001b[38;5;124;43m'\u001b[39;49m\u001b[38;5;124;43mresults\u001b[39;49m\u001b[38;5;124;43m'\u001b[39;49m\u001b[43m]\u001b[49m\u001b[43m[\u001b[49m\u001b[38;5;124;43m'\u001b[39;49m\u001b[38;5;124;43mbindings\u001b[39;49m\u001b[38;5;124;43m'\u001b[39;49m\u001b[43m]\u001b[49m\u001b[43m[\u001b[49m\u001b[38;5;241;43m0\u001b[39;49m\u001b[43m]\u001b[49m\n\u001b[1;32m     26\u001b[0m name, comment, image_url \u001b[38;5;241m=\u001b[39m result[\u001b[38;5;124m'\u001b[39m\u001b[38;5;124mname\u001b[39m\u001b[38;5;124m'\u001b[39m][\u001b[38;5;124m'\u001b[39m\u001b[38;5;124mvalue\u001b[39m\u001b[38;5;124m'\u001b[39m], result[\u001b[38;5;124m'\u001b[39m\u001b[38;5;124mcomment\u001b[39m\u001b[38;5;124m'\u001b[39m][\u001b[38;5;124m'\u001b[39m\u001b[38;5;124mvalue\u001b[39m\u001b[38;5;124m'\u001b[39m], result[\u001b[38;5;124m'\u001b[39m\u001b[38;5;124mimage\u001b[39m\u001b[38;5;124m'\u001b[39m][\u001b[38;5;124m'\u001b[39m\u001b[38;5;124mvalue\u001b[39m\u001b[38;5;124m'\u001b[39m]\n\u001b[1;32m     28\u001b[0m \u001b[38;5;28mprint\u001b[39m(name)\n",
      "\u001b[0;31mIndexError\u001b[0m: list index out of range"
     ]
    }
   ],
   "source": [
    "from IPython.display import display\n",
    "from io import BytesIO\n",
    "from PIL import Image\n",
    "import requests\n",
    "\n",
    "sparql = SPARQLWrapper('https://dbpedia.org/sparql')\n",
    "\n",
    "instruments = ['Nadaswaram', 'Electronic_keyboard', 'Choghur', 'Zill']\n",
    "\n",
    "for instrument in instruments:\n",
    "    print('###########################################')\n",
    "    sparql.setQuery(f'''\n",
    "    SELECT ?name ?comment ?image\n",
    "    WHERE {{ dbr:{instrument} rdfs:label ?name.\n",
    "             dbr:{instrument} rdfs:comment ?comment.\n",
    "             dbr:{instrument} dbo:thumbnail ?image.\n",
    "    \n",
    "        FILTER (lang(?name) = 'en')\n",
    "        FILTER (lang(?comment) = 'en')\n",
    "    }}''')\n",
    "\n",
    "    sparql.setReturnFormat(JSON)\n",
    "    qres = sparql.query().convert()\n",
    "    \n",
    "    result = qres['results']['bindings'][0]\n",
    "    name, comment, image_url = result['name']['value'], result['comment']['value'], result['image']['value']\n",
    "\n",
    "    print(name)\n",
    "    response = requests.get(image_url)\n",
    "    display(Image.open(BytesIO(response.content)))\n",
    "    print(f'{comment}...')"
   ]
  },
  {
   "cell_type": "code",
   "execution_count": null,
   "metadata": {},
   "outputs": [],
   "source": []
  }
 ],
 "metadata": {
  "colab": {
   "collapsed_sections": [],
   "name": "dbpedia.ipynb",
   "provenance": []
  },
  "kernelspec": {
   "display_name": "Python 3 (ipykernel)",
   "language": "python",
   "name": "python3"
  },
  "language_info": {
   "codemirror_mode": {
    "name": "ipython",
    "version": 3
   },
   "file_extension": ".py",
   "mimetype": "text/x-python",
   "name": "python",
   "nbconvert_exporter": "python",
   "pygments_lexer": "ipython3",
   "version": "3.9.12"
  }
 },
 "nbformat": 4,
 "nbformat_minor": 1
}
